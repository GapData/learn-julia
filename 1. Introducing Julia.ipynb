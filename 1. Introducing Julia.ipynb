{
 "metadata": {
  "language": "Julia",
  "name": "",
  "signature": "sha256:db4b7bd1fd2fe4df34acfd422dbf560d0ccf78447ef4b3cbcea5d2939cf91d9d"
 },
 "nbformat": 3,
 "nbformat_minor": 0,
 "worksheets": [
  {
   "cells": [
    {
     "cell_type": "markdown",
     "metadata": {},
     "source": [
      "# <center><img src=\"http://www.sengupta.net/images/julia_logo.png\" width=\"250\" alt=\"Julia\"/></center>\n",
      "## <center>Julia : Programming in a number driven world</center>"
     ]
    },
    {
     "cell_type": "markdown",
     "metadata": {},
     "source": [
      "<center><img src=\"http://www.sengupta.net/images/languages.png\" alt=\"technical computing systems\" width=\"60%\"/></center>\n",
      "<center><sub style=\"color:gray\">Image courtesy Stefan Karpinski</sub></center>"
     ]
    },
    {
     "cell_type": "markdown",
     "metadata": {},
     "source": [
      "### What is a numerical language?\n",
      "\n",
      "- Obviously, it's one that specializes in numerical work.\n",
      "\n",
      "But specialisation means different things\n",
      "\n",
      "- **Matlab**\n",
      "  - originally, everything was a matrix of complex doubles\n",
      "  - everything else has been extended from that\n",
      "- **R**\n",
      "  - data frames as basic type\n",
      "  - support for \"NA\" values everywhere\n",
      "- **Mathematica**\n",
      "  - symbolic evaluation semantics\n",
      "\n",
      "Every system picks its own angle/niche to specialize."
     ]
    },
    {
     "cell_type": "markdown",
     "metadata": {},
     "source": [
      "### Julia does NOT have a numerical speciality\n",
      "\n",
      "- instead, it is designed so you can *define numeric types and their behaviors yourself*"
     ]
    },
    {
     "cell_type": "markdown",
     "metadata": {},
     "source": [
      "## Design principles\n",
      "\n",
      "- Turtles all the way down \n",
      "  - Write all code in Julia\n",
      "  - No need to escape to C/Fortran for inner kernels\n",
      "  - Escape the two-language paradigm\n",
      "- Natural code is fast \n",
      "  - Loops are fast\n",
      "- Code is written both for human and computers"
     ]
    },
    {
     "cell_type": "markdown",
     "metadata": {},
     "source": [
      "### Performance is enabled by a number of features that work together\n",
      "\n",
      "- An expressive parametric type system, allowing optional type annotations\n",
      "- Multiple dispatch using those types to select implementations \n",
      "- A dynamic data ow type inference algorithm allowing types of most expressions to be inferred\n",
      "- Careful design of the language and standard library to be amenable to type analysis\n",
      "- Aggressive code specialization against run-time types \n",
      "- Metaprogramming for sophisticated code generation \n",
      "- Just-In-Time (JIT) compilation using the Low-level Virtual Machine (LLVM) compiler framework"
     ]
    },
    {
     "cell_type": "markdown",
     "metadata": {},
     "source": [
      "## History\n",
      "<img src=\"http://julialang.org/images/kahan.jpg\" width=\"70%\"/>\n",
      "<center><sub> Julia creators with Prof. Kahan Jan 2013. Source: http://julialang.org/images/kahan.jpg </sub></center>\n",
      "\n",
      "### Based around MIT\n",
      " - Jeff Bezanson\n",
      " - Stefan Karpinski\n",
      " - Viral Shah\n",
      " - Prof. Alan Edelman\n",
      " \n",
      "### Around 5 years in the works\n",
      " - Development started late 2009\n",
      " - First public announcement Feb 2010\n",
      " - Currently over 250 contributors\n",
      " - Over 20 developers with more than 100 commits\n",
      " - Developed on Github: https://github.com/JuliaLang/julia"
     ]
    },
    {
     "cell_type": "markdown",
     "metadata": {},
     "source": [
      "##Syntax Basics\n",
      "_Fibonacci Sequence, the Hello World of numerical computing_\n",
      "$$F_n = F_{n-1} + F_{n-2},\\!\\,$$\n",
      "$$F_0 = 0,\\; F_1 = 1$$"
     ]
    },
    {
     "cell_type": "code",
     "collapsed": false,
     "input": [
      "function fib(n) \n",
      "    if n < 2 \n",
      "        return n\n",
      "    else\n",
      "        return fib(n-1) + fib(n-2)\n",
      "    end\n",
      "end"
     ],
     "language": "python",
     "metadata": {},
     "outputs": [
      {
       "metadata": {},
       "output_type": "pyout",
       "prompt_number": 79,
       "text": [
        "fib (generic function with 1 method)"
       ]
      }
     ],
     "prompt_number": 79
    },
    {
     "cell_type": "code",
     "collapsed": false,
     "input": [
      "fib(20)"
     ],
     "language": "python",
     "metadata": {},
     "outputs": [
      {
       "metadata": {},
       "output_type": "pyout",
       "prompt_number": 81,
       "text": [
        "6765"
       ]
      }
     ],
     "prompt_number": 81
    },
    {
     "cell_type": "code",
     "collapsed": false,
     "input": [
      "@time fib(40)"
     ],
     "language": "python",
     "metadata": {},
     "outputs": [
      {
       "output_type": "stream",
       "stream": "stdout",
       "text": [
        "elapsed time: 1"
       ]
      },
      {
       "output_type": "stream",
       "stream": "stdout",
       "text": [
        ".259992227 seconds (96 bytes allocated)\n"
       ]
      },
      {
       "metadata": {},
       "output_type": "pyout",
       "prompt_number": 82,
       "text": [
        "102334155"
       ]
      }
     ],
     "prompt_number": 82
    },
    {
     "cell_type": "code",
     "collapsed": false,
     "input": [
      "#This is a comment. \n",
      "#The type is declared for the function paramter n\n",
      "function fib2(n::Int64) \n",
      "    if n < 2 \n",
      "        return n\n",
      "    else\n",
      "        return fib(n-1) + fib(n-2)\n",
      "    end\n",
      "end"
     ],
     "language": "python",
     "metadata": {},
     "outputs": [
      {
       "metadata": {},
       "output_type": "pyout",
       "prompt_number": 83,
       "text": [
        "fib2 (generic function with 1 method)"
       ]
      }
     ],
     "prompt_number": 83
    },
    {
     "cell_type": "code",
     "collapsed": false,
     "input": [
      "fib2(10)"
     ],
     "language": "python",
     "metadata": {},
     "outputs": [
      {
       "metadata": {},
       "output_type": "pyout",
       "prompt_number": 84,
       "text": [
        "55"
       ]
      }
     ],
     "prompt_number": 84
    },
    {
     "cell_type": "code",
     "collapsed": false,
     "input": [
      "@time fib2(40)"
     ],
     "language": "python",
     "metadata": {},
     "outputs": [
      {
       "output_type": "stream",
       "stream": "stdout",
       "text": [
        "elapsed time: 1"
       ]
      },
      {
       "output_type": "stream",
       "stream": "stdout",
       "text": [
        ".044553691 seconds (96 bytes allocated)\n"
       ]
      },
      {
       "metadata": {},
       "output_type": "pyout",
       "prompt_number": 85,
       "text": [
        "102334155"
       ]
      }
     ],
     "prompt_number": 85
    },
    {
     "cell_type": "markdown",
     "metadata": {},
     "source": [
      "###Newton's Method \n",
      "$$x_{n+1} = x_n - \\frac{f(x_n)}{f'(x_n)} \\,$$"
     ]
    },
    {
     "cell_type": "markdown",
     "metadata": {},
     "source": [
      "_Abbreviated syntax for single line functions._\n",
      "\n",
      "_Multiplication symbol can sometimes be omitted_"
     ]
    },
    {
     "cell_type": "code",
     "collapsed": false,
     "input": [
      "poly(x) = x ^ 2 + x \n",
      "dpoly(x) = 2x + 1"
     ],
     "language": "python",
     "metadata": {},
     "outputs": [
      {
       "metadata": {},
       "output_type": "pyout",
       "prompt_number": 86,
       "text": [
        "dpoly (generic function with 1 method)"
       ]
      }
     ],
     "prompt_number": 86
    },
    {
     "cell_type": "code",
     "collapsed": false,
     "input": [
      "function poly_root() \n",
      "   x0=1\n",
      "   x1=x0 - (poly(x0)/dpoly(x0))\n",
      "   while abs(x1 - x0) > 1e-9\n",
      "       x0=x1\n",
      "       x1=x0 - (poly(x0)/dpoly(x0))\n",
      "   end\n",
      "   return x0\n",
      "end\n",
      "\n",
      "poly_root()"
     ],
     "language": "python",
     "metadata": {},
     "outputs": [
      {
       "metadata": {},
       "output_type": "pyout",
       "prompt_number": 87,
       "text": [
        "2.3283064370807974e-10"
       ]
      }
     ],
     "prompt_number": 87
    },
    {
     "cell_type": "markdown",
     "metadata": {},
     "source": [
      "####First Class Functions"
     ]
    },
    {
     "cell_type": "code",
     "collapsed": false,
     "input": [
      "function root(f, g, init)  \n",
      "   x0=init\n",
      "   x1=x0 - (f(x0)/g(x0))\n",
      "   while abs(x1 - x0) > 1e-9\n",
      "       x0=x1\n",
      "       x1=x0 - (f(x0)/g(x0))\n",
      "   end\n",
      "   return x0\n",
      "end\n"
     ],
     "language": "python",
     "metadata": {},
     "outputs": [
      {
       "metadata": {},
       "output_type": "pyout",
       "prompt_number": 88,
       "text": [
        "root (generic function with 1 method)"
       ]
      }
     ],
     "prompt_number": 88
    },
    {
     "cell_type": "code",
     "collapsed": false,
     "input": [
      "root(poly, dpoly, 1)"
     ],
     "language": "python",
     "metadata": {},
     "outputs": [
      {
       "metadata": {},
       "output_type": "pyout",
       "prompt_number": 89,
       "text": [
        "2.3283064370807974e-10"
       ]
      }
     ],
     "prompt_number": 89
    },
    {
     "cell_type": "code",
     "collapsed": false,
     "input": [
      "root(sin, cos, 1)"
     ],
     "language": "python",
     "metadata": {},
     "outputs": [
      {
       "metadata": {},
       "output_type": "pyout",
       "prompt_number": 91,
       "text": [
        "2.923566201412306e-13"
       ]
      }
     ],
     "prompt_number": 91
    },
    {
     "cell_type": "code",
     "collapsed": false,
     "input": [
      "sin(2.923566201412306e-13)"
     ],
     "language": "python",
     "metadata": {},
     "outputs": [
      {
       "metadata": {},
       "output_type": "pyout",
       "prompt_number": 92,
       "text": [
        "2.923566201412306e-13"
       ]
      }
     ],
     "prompt_number": 92
    },
    {
     "cell_type": "markdown",
     "metadata": {},
     "source": [
      "_Anonymous functions _"
     ]
    },
    {
     "cell_type": "code",
     "collapsed": false,
     "input": [
      "root(x->x^2, x->2x, 1)"
     ],
     "language": "python",
     "metadata": {},
     "outputs": [
      {
       "metadata": {},
       "output_type": "pyout",
       "prompt_number": 93,
       "text": [
        "1.862645149230957e-9"
       ]
      }
     ],
     "prompt_number": 93
    },
    {
     "cell_type": "markdown",
     "metadata": {},
     "source": [
      "####For Loops"
     ]
    },
    {
     "cell_type": "code",
     "collapsed": false,
     "input": [
      "function prefix_sum(w)\n",
      "    for i=2:length(w)\n",
      "       w[i] += w[i-1]\n",
      "    end\n",
      "  return w\n",
      "end\n"
     ],
     "language": "python",
     "metadata": {},
     "outputs": [
      {
       "metadata": {},
       "output_type": "pyout",
       "prompt_number": 21,
       "text": [
        "prefix_sum (generic function with 1 method)"
       ]
      }
     ],
     "prompt_number": 21
    },
    {
     "cell_type": "code",
     "collapsed": false,
     "input": [
      "prefix_sum([1:10])"
     ],
     "language": "python",
     "metadata": {},
     "outputs": [
      {
       "metadata": {},
       "output_type": "pyout",
       "prompt_number": 94,
       "text": [
        "10-element Array{Int64,1}:\n",
        "  1\n",
        "  3\n",
        "  6\n",
        " 10\n",
        " 15\n",
        " 21\n",
        " 28\n",
        " 36\n",
        " 45\n",
        " 55"
       ]
      }
     ],
     "prompt_number": 94
    },
    {
     "cell_type": "markdown",
     "metadata": {},
     "source": [
      "###Ranges"
     ]
    },
    {
     "cell_type": "code",
     "collapsed": false,
     "input": [
      "1:10"
     ],
     "language": "python",
     "metadata": {},
     "outputs": [
      {
       "metadata": {},
       "output_type": "pyout",
       "prompt_number": 23,
       "text": [
        "1:10"
       ]
      }
     ],
     "prompt_number": 23
    },
    {
     "cell_type": "code",
     "collapsed": false,
     "input": [
      "typeof(1:10)"
     ],
     "language": "python",
     "metadata": {},
     "outputs": [
      {
       "metadata": {},
       "output_type": "pyout",
       "prompt_number": 24,
       "text": [
        "UnitRange{Int64} (constructor with 1 method)"
       ]
      }
     ],
     "prompt_number": 24
    },
    {
     "cell_type": "code",
     "collapsed": false,
     "input": [
      "typeof(1.0:0.5:10.0)"
     ],
     "language": "python",
     "metadata": {},
     "outputs": [
      {
       "metadata": {},
       "output_type": "pyout",
       "prompt_number": 25,
       "text": [
        "FloatRange{Float64} (constructor with 1 method)"
       ]
      }
     ],
     "prompt_number": 25
    },
    {
     "cell_type": "code",
     "collapsed": false,
     "input": [
      "[1.0:0.5:10.0]"
     ],
     "language": "python",
     "metadata": {},
     "outputs": [
      {
       "metadata": {},
       "output_type": "pyout",
       "prompt_number": 26,
       "text": [
        "19-element Array{Float64,1}:\n",
        "  1.0\n",
        "  1.5\n",
        "  2.0\n",
        "  2.5\n",
        "  3.0\n",
        "  3.5\n",
        "  4.0\n",
        "  4.5\n",
        "  5.0\n",
        "  5.5\n",
        "  6.0\n",
        "  6.5\n",
        "  7.0\n",
        "  7.5\n",
        "  8.0\n",
        "  8.5\n",
        "  9.0\n",
        "  9.5\n",
        " 10.0"
       ]
      }
     ],
     "prompt_number": 26
    },
    {
     "cell_type": "markdown",
     "metadata": {},
     "source": [
      "##Numbers\n",
      "\n",
      "- Default 64 bit singed integers on 64 bit systems (Int64)\n",
      "  - 32 bit integers on 32 bit systems (Int32)\n",
      "  - Alias `Int` for system independent default integer type\n",
      "- 64 bit IEEE Floats (Float64)\n",
      "- Uses machine numbers \n",
      "  - Same binary layout as C\n",
      "  - No overflow/underflow checks"
     ]
    },
    {
     "cell_type": "code",
     "collapsed": false,
     "input": [
      "typeof(1)"
     ],
     "language": "python",
     "metadata": {},
     "outputs": [
      {
       "metadata": {},
       "output_type": "pyout",
       "prompt_number": 27,
       "text": [
        "Int64"
       ]
      }
     ],
     "prompt_number": 27
    },
    {
     "cell_type": "code",
     "collapsed": false,
     "input": [
      "typeof(1.0)"
     ],
     "language": "python",
     "metadata": {},
     "outputs": [
      {
       "metadata": {},
       "output_type": "pyout",
       "prompt_number": 28,
       "text": [
        "Float64"
       ]
      }
     ],
     "prompt_number": 28
    },
    {
     "cell_type": "code",
     "collapsed": false,
     "input": [
      "1/10"
     ],
     "language": "python",
     "metadata": {},
     "outputs": [
      {
       "metadata": {},
       "output_type": "pyout",
       "prompt_number": 29,
       "text": [
        "0.1"
       ]
      }
     ],
     "prompt_number": 29
    },
    {
     "cell_type": "code",
     "collapsed": false,
     "input": [
      "eps(1.0)"
     ],
     "language": "python",
     "metadata": {},
     "outputs": [
      {
       "metadata": {},
       "output_type": "pyout",
       "prompt_number": 30,
       "text": [
        "2.220446049250313e-16"
       ]
      }
     ],
     "prompt_number": 30
    },
    {
     "cell_type": "code",
     "collapsed": false,
     "input": [
      "2^63 + 1"
     ],
     "language": "python",
     "metadata": {},
     "outputs": [
      {
       "metadata": {},
       "output_type": "pyout",
       "prompt_number": 95,
       "text": [
        "-9223372036854775807"
       ]
      }
     ],
     "prompt_number": 95
    },
    {
     "cell_type": "markdown",
     "metadata": {},
     "source": [
      "####BigNum"
     ]
    },
    {
     "cell_type": "code",
     "collapsed": false,
     "input": [
      "big(2)"
     ],
     "language": "python",
     "metadata": {},
     "outputs": [
      {
       "metadata": {},
       "output_type": "pyout",
       "prompt_number": 32,
       "text": [
        "2"
       ]
      }
     ],
     "prompt_number": 32
    },
    {
     "cell_type": "code",
     "collapsed": false,
     "input": [
      "typeof(big(2))"
     ],
     "language": "python",
     "metadata": {},
     "outputs": [
      {
       "metadata": {},
       "output_type": "pyout",
       "prompt_number": 33,
       "text": [
        "BigInt (constructor with 10 methods)"
       ]
      }
     ],
     "prompt_number": 33
    },
    {
     "cell_type": "code",
     "collapsed": false,
     "input": [
      "big(2)^63 + 1"
     ],
     "language": "python",
     "metadata": {},
     "outputs": [
      {
       "metadata": {},
       "output_type": "pyout",
       "prompt_number": 96,
       "text": [
        "9223372036854775809"
       ]
      }
     ],
     "prompt_number": 96
    },
    {
     "cell_type": "code",
     "collapsed": false,
     "input": [
      "big(2.0)"
     ],
     "language": "python",
     "metadata": {},
     "outputs": [
      {
       "metadata": {},
       "output_type": "pyout",
       "prompt_number": 35,
       "text": [
        "2e+00 with 256 bits of precision"
       ]
      }
     ],
     "prompt_number": 35
    },
    {
     "cell_type": "markdown",
     "metadata": {},
     "source": [
      "####Rational Numbers"
     ]
    },
    {
     "cell_type": "code",
     "collapsed": false,
     "input": [
      "1//3"
     ],
     "language": "python",
     "metadata": {},
     "outputs": [
      {
       "metadata": {},
       "output_type": "pyout",
       "prompt_number": 36,
       "text": [
        "1//3"
       ]
      }
     ],
     "prompt_number": 36
    },
    {
     "cell_type": "code",
     "collapsed": false,
     "input": [
      "typeof(1//3)"
     ],
     "language": "python",
     "metadata": {},
     "outputs": [
      {
       "metadata": {},
       "output_type": "pyout",
       "prompt_number": 37,
       "text": [
        "Rational{Int64} (constructor with 1 method)"
       ]
      }
     ],
     "prompt_number": 37
    },
    {
     "cell_type": "code",
     "collapsed": false,
     "input": [
      "1//3 + 1//5"
     ],
     "language": "python",
     "metadata": {},
     "outputs": [
      {
       "metadata": {},
       "output_type": "pyout",
       "prompt_number": 38,
       "text": [
        "8//15"
       ]
      }
     ],
     "prompt_number": 38
    },
    {
     "cell_type": "markdown",
     "metadata": {},
     "source": [
      "####Complex Numbers"
     ]
    },
    {
     "cell_type": "code",
     "collapsed": false,
     "input": [
      "1 + 2im"
     ],
     "language": "python",
     "metadata": {},
     "outputs": [
      {
       "metadata": {},
       "output_type": "pyout",
       "prompt_number": 39,
       "text": [
        "1 + 2im"
       ]
      }
     ],
     "prompt_number": 39
    },
    {
     "cell_type": "code",
     "collapsed": false,
     "input": [
      "typeof(1+2im)"
     ],
     "language": "python",
     "metadata": {},
     "outputs": [
      {
       "metadata": {},
       "output_type": "pyout",
       "prompt_number": 40,
       "text": [
        "Complex{Int64} (constructor with 1 method)"
       ]
      }
     ],
     "prompt_number": 40
    },
    {
     "cell_type": "code",
     "collapsed": false,
     "input": [
      "exp(im*pi) + 1"
     ],
     "language": "python",
     "metadata": {},
     "outputs": [
      {
       "metadata": {},
       "output_type": "pyout",
       "prompt_number": 97,
       "text": [
        "0.0 + 1.2246467991473532e-16im"
       ]
      }
     ],
     "prompt_number": 97
    },
    {
     "cell_type": "markdown",
     "metadata": {},
     "source": [
      "##Arrays"
     ]
    },
    {
     "cell_type": "code",
     "collapsed": false,
     "input": [
      "a=rand(2,2)"
     ],
     "language": "python",
     "metadata": {},
     "outputs": [
      {
       "metadata": {},
       "output_type": "pyout",
       "prompt_number": 98,
       "text": [
        "2x2 Array{Float64,2}:\n",
        " 0.457634  0.807653\n",
        " 0.296989  0.299374"
       ]
      }
     ],
     "prompt_number": 98
    },
    {
     "cell_type": "code",
     "collapsed": false,
     "input": [
      "b=[1,2,3]"
     ],
     "language": "python",
     "metadata": {},
     "outputs": [
      {
       "metadata": {},
       "output_type": "pyout",
       "prompt_number": 99,
       "text": [
        "3-element Array{Int64,1}:\n",
        " 1\n",
        " 2\n",
        " 3"
       ]
      }
     ],
     "prompt_number": 99
    },
    {
     "cell_type": "code",
     "collapsed": false,
     "input": [
      "a[1,2]"
     ],
     "language": "python",
     "metadata": {},
     "outputs": [
      {
       "metadata": {},
       "output_type": "pyout",
       "prompt_number": 104,
       "text": [
        "0.8076534171651035"
       ]
      }
     ],
     "prompt_number": 104
    },
    {
     "cell_type": "code",
     "collapsed": false,
     "input": [
      "c=[1 2 3; 4 5 6]"
     ],
     "language": "python",
     "metadata": {},
     "outputs": [
      {
       "metadata": {},
       "output_type": "pyout",
       "prompt_number": 107,
       "text": [
        "2x3 Array{Int64,2}:\n",
        " 1  2  3\n",
        " 4  5  6"
       ]
      }
     ],
     "prompt_number": 107
    },
    {
     "cell_type": "code",
     "collapsed": false,
     "input": [
      "a[1,:]"
     ],
     "language": "python",
     "metadata": {},
     "outputs": [
      {
       "metadata": {},
       "output_type": "pyout",
       "prompt_number": 109,
       "text": [
        "1x2 Array{Float64,2}:\n",
        " 0.457634  0.807653"
       ]
      }
     ],
     "prompt_number": 109
    },
    {
     "cell_type": "code",
     "collapsed": false,
     "input": [
      "a[:,1]"
     ],
     "language": "python",
     "metadata": {},
     "outputs": [
      {
       "metadata": {},
       "output_type": "pyout",
       "prompt_number": 110,
       "text": [
        "2-element Array{Float64,1}:\n",
        " 0.457634\n",
        " 0.296989"
       ]
      }
     ],
     "prompt_number": 110
    },
    {
     "cell_type": "code",
     "collapsed": false,
     "input": [
      "b[2:end]"
     ],
     "language": "python",
     "metadata": {},
     "outputs": [
      {
       "metadata": {},
       "output_type": "pyout",
       "prompt_number": 48,
       "text": [
        "2-element Array{Int64,1}:\n",
        " 2\n",
        " 3"
       ]
      }
     ],
     "prompt_number": 48
    },
    {
     "cell_type": "code",
     "collapsed": false,
     "input": [
      "c=eye(ones(Complex64, (3,3)))"
     ],
     "language": "python",
     "metadata": {},
     "outputs": [
      {
       "metadata": {},
       "output_type": "pyout",
       "prompt_number": 123,
       "text": [
        "3x3 Array{Complex{Float32},2}:\n",
        " 1.0+0.0im  0.0+0.0im  0.0+0.0im\n",
        " 0.0+0.0im  1.0+0.0im  0.0+0.0im\n",
        " 0.0+0.0im  0.0+0.0im  1.0+0.0im"
       ]
      }
     ],
     "prompt_number": 123
    },
    {
     "cell_type": "markdown",
     "metadata": {},
     "source": [
      "###Comprehensions"
     ]
    },
    {
     "cell_type": "code",
     "collapsed": false,
     "input": [
      "[x^2 for x=1:10]"
     ],
     "language": "python",
     "metadata": {},
     "outputs": [
      {
       "metadata": {},
       "output_type": "pyout",
       "prompt_number": 50,
       "text": [
        "10-element Array{Int64,1}:\n",
        "   1\n",
        "   4\n",
        "   9\n",
        "  16\n",
        "  25\n",
        "  36\n",
        "  49\n",
        "  64\n",
        "  81\n",
        " 100"
       ]
      }
     ],
     "prompt_number": 50
    },
    {
     "cell_type": "code",
     "collapsed": false,
     "input": [
      "[x+y for x=1:10, y=1:10]"
     ],
     "language": "python",
     "metadata": {},
     "outputs": [
      {
       "metadata": {},
       "output_type": "pyout",
       "prompt_number": 51,
       "text": [
        "10x10 Array{Int64,2}:\n",
        "  2   3   4   5   6   7   8   9  10  11\n",
        "  3   4   5   6   7   8   9  10  11  12\n",
        "  4   5   6   7   8   9  10  11  12  13\n",
        "  5   6   7   8   9  10  11  12  13  14\n",
        "  6   7   8   9  10  11  12  13  14  15\n",
        "  7   8   9  10  11  12  13  14  15  16\n",
        "  8   9  10  11  12  13  14  15  16  17\n",
        "  9  10  11  12  13  14  15  16  17  18\n",
        " 10  11  12  13  14  15  16  17  18  19\n",
        " 11  12  13  14  15  16  17  18  19  20"
       ]
      }
     ],
     "prompt_number": 51
    },
    {
     "cell_type": "markdown",
     "metadata": {},
     "source": [
      "##Excercise \n",
      "\n",
      "Write an iterative implementation for the Fibonacci Sequence, and use it to find fib(100). One simple algorithm is to store the intermediate values in an array. "
     ]
    },
    {
     "cell_type": "code",
     "collapsed": false,
     "input": [],
     "language": "python",
     "metadata": {},
     "outputs": [],
     "prompt_number": 52
    },
    {
     "cell_type": "markdown",
     "metadata": {},
     "source": [
      "##Strings"
     ]
    },
    {
     "cell_type": "code",
     "collapsed": false,
     "input": [
      "typeof(\"abc\")"
     ],
     "language": "python",
     "metadata": {},
     "outputs": [
      {
       "metadata": {},
       "output_type": "pyout",
       "prompt_number": 53,
       "text": [
        "ASCIIString (constructor with 2 methods)"
       ]
      }
     ],
     "prompt_number": 53
    },
    {
     "cell_type": "code",
     "collapsed": false,
     "input": [
      "typeof(\"\u03b1\u03b2\u03b3\")"
     ],
     "language": "python",
     "metadata": {},
     "outputs": [
      {
       "metadata": {},
       "output_type": "pyout",
       "prompt_number": 54,
       "text": [
        "UTF8String (constructor with 2 methods)"
       ]
      }
     ],
     "prompt_number": 54
    },
    {
     "cell_type": "code",
     "collapsed": false,
     "input": [
      "x=2; \n",
      "s=\"The square root of $x is $(sqrt(x))\""
     ],
     "language": "python",
     "metadata": {},
     "outputs": [
      {
       "metadata": {},
       "output_type": "pyout",
       "prompt_number": 55,
       "text": [
        "\"The square root of 2 is 1.4142135623730951\""
       ]
      }
     ],
     "prompt_number": 55
    },
    {
     "cell_type": "markdown",
     "metadata": {},
     "source": [
      "##Tuples\n",
      "Tuples are just a small collection of values. Usually function parameters are represented as tuples. In Julia, tuples are exposed to the programmer. Among other things, they can be used to return multple values from a function\n"
     ]
    },
    {
     "cell_type": "code",
     "collapsed": false,
     "input": [
      "(1,2)"
     ],
     "language": "python",
     "metadata": {},
     "outputs": [
      {
       "metadata": {},
       "output_type": "pyout",
       "prompt_number": 56,
       "text": [
        "(1,2)"
       ]
      }
     ],
     "prompt_number": 56
    },
    {
     "cell_type": "code",
     "collapsed": false,
     "input": [
      "typeof((1,2))"
     ],
     "language": "python",
     "metadata": {},
     "outputs": [
      {
       "metadata": {},
       "output_type": "pyout",
       "prompt_number": 57,
       "text": [
        "(Int64,Int64)"
       ]
      }
     ],
     "prompt_number": 57
    },
    {
     "cell_type": "code",
     "collapsed": false,
     "input": [
      "typeof(1,2)"
     ],
     "language": "python",
     "metadata": {},
     "outputs": [
      {
       "ename": "LoadError",
       "evalue": "typeof: too many arguments (expected 1)\nwhile loading In[58], in expression starting on line 1",
       "output_type": "pyerr",
       "traceback": [
        "typeof: too many arguments (expected 1)\nwhile loading In[58], in expression starting on line 1",
        ""
       ]
      }
     ],
     "prompt_number": 58
    },
    {
     "cell_type": "code",
     "collapsed": false,
     "input": [
      "function sq_and_cb(x) \n",
      "    return (x^2, x^3)\n",
      "end"
     ],
     "language": "python",
     "metadata": {},
     "outputs": [
      {
       "metadata": {},
       "output_type": "pyout",
       "prompt_number": 59,
       "text": [
        "sq_and_cb (generic function with 1 method)"
       ]
      }
     ],
     "prompt_number": 59
    },
    {
     "cell_type": "code",
     "collapsed": false,
     "input": [
      "sq_and_cb(9)"
     ],
     "language": "python",
     "metadata": {},
     "outputs": [
      {
       "metadata": {},
       "output_type": "pyout",
       "prompt_number": 60,
       "text": [
        "(81,729)"
       ]
      }
     ],
     "prompt_number": 60
    },
    {
     "cell_type": "markdown",
     "metadata": {},
     "source": [
      "##Types and Method Dispatch"
     ]
    },
    {
     "cell_type": "markdown",
     "metadata": {},
     "source": [
      "###Types\n",
      " - Describes the domain of values\n",
      " - In Julia, it is tag on all values\n",
      " - There is a heirarchy of types\n",
      "   - eg: Number -> Integer -> Int64\n",
      "   "
     ]
    },
    {
     "cell_type": "markdown",
     "metadata": {},
     "source": [
      "###Abstract and concrete\n",
      " - Abstract types cannot hold data\n",
      " - Abstract types can be subclassed\n",
      " - Values are of a concrete type\n",
      " - Concrete types cannot subtyped (ie, they are final)"
     ]
    },
    {
     "cell_type": "markdown",
     "metadata": {},
     "source": [
      "#### _Any_ is the top type in Julia. All types are subtypes of Any\n",
      "#### _None_ is the bottom type. There are no instance of None, and it is the subtype of all types. "
     ]
    },
    {
     "cell_type": "markdown",
     "metadata": {},
     "source": [
      "###Multiple Dispatch"
     ]
    },
    {
     "cell_type": "code",
     "collapsed": false,
     "input": [
      "f(a, b) = \"fallback\"\n",
      "f(a::Number, b::Number) = \"a and b are both numbers\"\n",
      "f(a::Number, b) = \"a is a number\"\n",
      "f(a, b::Number) = \"b is a number\"\n",
      "f(a::Integer, b::Integer) = \"a and b are both integers\""
     ],
     "language": "python",
     "metadata": {},
     "outputs": [
      {
       "metadata": {},
       "output_type": "pyout",
       "prompt_number": 124,
       "text": [
        "f (generic function with 8 methods)"
       ]
      }
     ],
     "prompt_number": 124
    },
    {
     "cell_type": "code",
     "collapsed": false,
     "input": [
      "f(1.5,2)"
     ],
     "language": "python",
     "metadata": {},
     "outputs": [
      {
       "metadata": {},
       "output_type": "pyout",
       "prompt_number": 125,
       "text": [
        "\"a and b are both numbers\""
       ]
      }
     ],
     "prompt_number": 125
    },
    {
     "cell_type": "code",
     "collapsed": false,
     "input": [
      "f(1, \"bar\")"
     ],
     "language": "python",
     "metadata": {},
     "outputs": [
      {
       "metadata": {},
       "output_type": "pyout",
       "prompt_number": 126,
       "text": [
        "\"a is a number\""
       ]
      }
     ],
     "prompt_number": 126
    },
    {
     "cell_type": "code",
     "collapsed": false,
     "input": [
      "f(1,2)"
     ],
     "language": "python",
     "metadata": {},
     "outputs": [
      {
       "metadata": {},
       "output_type": "pyout",
       "prompt_number": 127,
       "text": [
        "\"a and b are both integers\""
       ]
      }
     ],
     "prompt_number": 127
    },
    {
     "cell_type": "code",
     "collapsed": false,
     "input": [
      "f(\"foo\", [1,2])"
     ],
     "language": "python",
     "metadata": {},
     "outputs": [
      {
       "metadata": {},
       "output_type": "pyout",
       "prompt_number": 128,
       "text": [
        "\"fallback\""
       ]
      }
     ],
     "prompt_number": 128
    },
    {
     "cell_type": "code",
     "collapsed": false,
     "input": [
      "methods(f)"
     ],
     "language": "python",
     "metadata": {},
     "outputs": [
      {
       "html": [
        "5 methods for generic function <b>f</b>:<ul><li> f(a::<b>Integer</b>,b::<b>Integer</b>) at In[61]:5<li> f(a::<b>Number</b>,b::<b>Number</b>) at In[61]:2<li> f(a::<b>Number</b>,b) at In[61]:3<li> f(a,b::<b>Number</b>) at In[61]:4<li> f(a,b) at In[61]:1</ul>"
       ],
       "metadata": {},
       "output_type": "pyout",
       "prompt_number": 66,
       "text": [
        "# 5 methods for generic function \"f\":\n",
        "f(a::Integer,b::Integer) at In[61]:5\n",
        "f(a::Number,b::Number) at In[61]:2\n",
        "f(a::Number,b) at In[61]:3\n",
        "f(a,b::Number) at In[61]:4\n",
        "f(a,b) at In[61]:1"
       ]
      }
     ],
     "prompt_number": 66
    },
    {
     "cell_type": "markdown",
     "metadata": {},
     "source": [
      "####Type Parameters\n",
      "\n",
      "Method definitions can optionally have type parameters immediately after the method name and before the parameters tuple. The type declarations on the parameters itself can then be variable. "
     ]
    },
    {
     "cell_type": "markdown",
     "metadata": {},
     "source": [
      "####Diagonal Dispatch"
     ]
    },
    {
     "cell_type": "code",
     "collapsed": false,
     "input": [
      "f{T<:Number}(a::T, b::T) = \"a and b are both $(T)s\""
     ],
     "language": "python",
     "metadata": {},
     "outputs": [
      {
       "metadata": {},
       "output_type": "pyout",
       "prompt_number": 129,
       "text": [
        "f (generic function with 8 methods)"
       ]
      }
     ],
     "prompt_number": 129
    },
    {
     "cell_type": "code",
     "collapsed": false,
     "input": [
      "f(big(1.5),big(2.5))"
     ],
     "language": "python",
     "metadata": {},
     "outputs": [
      {
       "metadata": {},
       "output_type": "pyout",
       "prompt_number": 130,
       "text": [
        "\"a and b are both BigFloats\""
       ]
      }
     ],
     "prompt_number": 130
    },
    {
     "cell_type": "code",
     "collapsed": false,
     "input": [
      "f(big(1),big(2)) #<== integer rule is more specific"
     ],
     "language": "python",
     "metadata": {},
     "outputs": [
      {
       "metadata": {},
       "output_type": "pyout",
       "prompt_number": 131,
       "text": [
        "\"a and b are both integers\""
       ]
      }
     ],
     "prompt_number": 131
    },
    {
     "cell_type": "code",
     "collapsed": false,
     "input": [
      "f(\"foo\",\"bar\") #<== still doesn't apply to non-numbers"
     ],
     "language": "python",
     "metadata": {},
     "outputs": [
      {
       "metadata": {},
       "output_type": "pyout",
       "prompt_number": 132,
       "text": [
        "\"fallback\""
       ]
      }
     ],
     "prompt_number": 132
    },
    {
     "cell_type": "markdown",
     "metadata": {},
     "source": [
      "####Varargs methods"
     ]
    },
    {
     "cell_type": "code",
     "collapsed": false,
     "input": [
      "f(args::Number...) = \"$(length(args))-parameters heterogeneous call\"\n",
      "f{T<:Number}(args::T...) = \"$(length(args))-parameters homogeneous call\""
     ],
     "language": "python",
     "metadata": {},
     "outputs": [
      {
       "metadata": {},
       "output_type": "pyout",
       "prompt_number": 71,
       "text": [
        "f (generic function with 8 methods)"
       ]
      }
     ],
     "prompt_number": 71
    },
    {
     "cell_type": "code",
     "collapsed": false,
     "input": [
      "f(1)"
     ],
     "language": "python",
     "metadata": {},
     "outputs": [
      {
       "metadata": {},
       "output_type": "pyout",
       "prompt_number": 133,
       "text": [
        "\"1-parameters homogeneous call\""
       ]
      }
     ],
     "prompt_number": 133
    },
    {
     "cell_type": "code",
     "collapsed": false,
     "input": [
      "f(1,2,3)"
     ],
     "language": "python",
     "metadata": {},
     "outputs": [
      {
       "metadata": {},
       "output_type": "pyout",
       "prompt_number": 134,
       "text": [
        "\"3-parameters homogeneous call\""
       ]
      }
     ],
     "prompt_number": 134
    },
    {
     "cell_type": "code",
     "collapsed": false,
     "input": [
      "f(1,1.5,2)"
     ],
     "language": "python",
     "metadata": {},
     "outputs": [
      {
       "metadata": {},
       "output_type": "pyout",
       "prompt_number": 135,
       "text": [
        "\"3-parameters heterogeneous call\""
       ]
      }
     ],
     "prompt_number": 135
    },
    {
     "cell_type": "code",
     "collapsed": false,
     "input": [
      "f() # heterogeneous because we can't bind T"
     ],
     "language": "python",
     "metadata": {},
     "outputs": [
      {
       "metadata": {},
       "output_type": "pyout",
       "prompt_number": 136,
       "text": [
        "\"0-parameters heterogeneous call\""
       ]
      }
     ],
     "prompt_number": 136
    },
    {
     "cell_type": "code",
     "collapsed": false,
     "input": [
      "f(1,2) # previous 2-arg method is more specific"
     ],
     "language": "python",
     "metadata": {},
     "outputs": [
      {
       "metadata": {},
       "output_type": "pyout",
       "prompt_number": 137,
       "text": [
        "\"a and b are both integers\""
       ]
      }
     ],
     "prompt_number": 137
    },
    {
     "cell_type": "code",
     "collapsed": false,
     "input": [
      "f(\"foo\") # doesn't apply to non-numbers"
     ],
     "language": "python",
     "metadata": {},
     "outputs": [
      {
       "ename": "LoadError",
       "evalue": "`f` has no method matching f(::ASCIIString)\nwhile loading In[138], in expression starting on line 1",
       "output_type": "pyerr",
       "traceback": [
        "`f` has no method matching f(::ASCIIString)\nwhile loading In[138], in expression starting on line 1",
        ""
       ]
      }
     ],
     "prompt_number": 138
    },
    {
     "cell_type": "code",
     "collapsed": false,
     "input": [],
     "language": "python",
     "metadata": {},
     "outputs": [],
     "prompt_number": 78
    }
   ],
   "metadata": {}
  }
 ]
}