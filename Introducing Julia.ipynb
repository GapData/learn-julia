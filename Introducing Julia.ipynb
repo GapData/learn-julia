{
 "metadata": {
  "language": "Julia",
  "name": "",
  "signature": "sha256:82a78925cefef2bde44acca5672193d6e8899a1d04823eadae5b93b66f0513e0"
 },
 "nbformat": 3,
 "nbformat_minor": 0,
 "worksheets": [
  {
   "cells": [
    {
     "cell_type": "markdown",
     "metadata": {},
     "source": [
      "# <center><img src=\"http://www.sengupta.net/images/julia_logo.png\" width=\"250\" alt=\"Julia\"/></center>\n",
      "## <center>Julia : Programming in a number driven world</center>"
     ]
    },
    {
     "cell_type": "markdown",
     "metadata": {},
     "source": [
      "<center><img src=\"http://www.sengupta.net/images/languages.png\" alt=\"technical computing systems\" width=\"60%\"/></center>\n",
      "<center><sub style=\"color:gray\">Image courtesy Stefan Karpinski</sub></center>"
     ]
    },
    {
     "cell_type": "markdown",
     "metadata": {},
     "source": [
      "### What is a numerical language?\n",
      "\n",
      "- Obviously, it's one that specializes in numerical work.\n",
      "\n",
      "But specialisation means different things\n",
      "\n",
      "- **Matlab**\n",
      "  - originally, everything was a matrix of complex doubles\n",
      "  - everything else has been extended from that\n",
      "- **R**\n",
      "  - data frames as basic type\n",
      "  - support for \"NA\" values everywhere\n",
      "- **Mathematica**\n",
      "  - symbolic evaluation semantics\n",
      "\n",
      "Every system picks its own angle/niche to specialize."
     ]
    },
    {
     "cell_type": "markdown",
     "metadata": {},
     "source": [
      "### Julia does NOT have a numerical speciality\n",
      "\n",
      "- instead, it is designed so you can *define numeric types and their behaviors yourself*"
     ]
    },
    {
     "cell_type": "markdown",
     "metadata": {},
     "source": [
      "## Design principles\n",
      "\n",
      "- Turtles all the way down \n",
      "  - Write all code in Julia\n",
      "  - No need to escape to C/Fortran for inner kernels\n",
      "  - Escape the two-language paradigm\n",
      "- Natural code is fast \n",
      "  - Loops are fast\n",
      "- Code is written both for human and computers"
     ]
    },
    {
     "cell_type": "markdown",
     "metadata": {},
     "source": [
      "### Performance is enabled by a number of features that work together\n",
      "\n",
      "- An expressive parametric type system, allowing optional type annotations\n",
      "- Multiple dispatch using those types to select implementations \n",
      "- A dynamic data ow type inference algorithm allowing types of most expressions to be inferred\n",
      "- Careful design of the language and standard library to be amenable to type analysis\n",
      "- Aggressive code specialization against run-time types \n",
      "- Metaprogramming for sophisticated code generation \n",
      "- Just-In-Time (JIT) compilation using the Low-level Virtual Machine (LLVM) compiler framework"
     ]
    },
    {
     "cell_type": "markdown",
     "metadata": {},
     "source": [
      "## History\n",
      "<img src=\"http://julialang.org/images/kahan.jpg\" width=\"70%\"/>\n",
      "<center><sub> Julia creators with Prof. Kahan Jan 2013. Source: http://julialang.org/images/kahan.jpg </sub></center>\n",
      "\n",
      "### Based around MIT\n",
      " - Jeff Bezanson\n",
      " - Stefan Karpinski\n",
      " - Viral Shah\n",
      " - Prof. Alan Edelman\n",
      " \n",
      "### Around 5 years in the works\n",
      " - Development started late 2009\n",
      " - First public announcement Feb 2010\n",
      " - Currently over 250 contributors\n",
      " - Over 20 developers with more than 100 commits\n",
      " - Developed on Github: https://github.com/JuliaLang/julia"
     ]
    },
    {
     "cell_type": "markdown",
     "metadata": {},
     "source": [
      "##Syntax Basics\n",
      "_Fibonacci Sequence, the Hello World of numerical computing_\n",
      "$$F_n = F_{n-1} + F_{n-2},\\!\\,$$\n",
      "$$F_0 = 0,\\; F_1 = 1$$"
     ]
    },
    {
     "cell_type": "code",
     "collapsed": false,
     "input": [
      "function fib(n) \n",
      "    if n < 2 \n",
      "        return n\n",
      "    else\n",
      "        return fib(n-1) + fib(n-2)\n",
      "    end\n",
      "end"
     ],
     "language": "python",
     "metadata": {},
     "outputs": []
    },
    {
     "cell_type": "code",
     "collapsed": false,
     "input": [
      "fib(10)"
     ],
     "language": "python",
     "metadata": {},
     "outputs": []
    },
    {
     "cell_type": "code",
     "collapsed": false,
     "input": [
      "@time fib(40)"
     ],
     "language": "python",
     "metadata": {},
     "outputs": []
    },
    {
     "cell_type": "code",
     "collapsed": false,
     "input": [
      "#This is a comment. \n",
      "#The type is declared for the function paramter n\n",
      "function fib2(n::Int64) \n",
      "    if n < 2 \n",
      "        return n\n",
      "    else\n",
      "        return fib(n-1) + fib(n-2)\n",
      "    end\n",
      "end"
     ],
     "language": "python",
     "metadata": {},
     "outputs": []
    },
    {
     "cell_type": "code",
     "collapsed": false,
     "input": [
      "fib2(10)"
     ],
     "language": "python",
     "metadata": {},
     "outputs": []
    },
    {
     "cell_type": "code",
     "collapsed": false,
     "input": [
      "@time fib2(40)"
     ],
     "language": "python",
     "metadata": {},
     "outputs": []
    },
    {
     "cell_type": "markdown",
     "metadata": {},
     "source": [
      "###Newton's Method \n",
      "$$x_{n+1} = x_n - \\frac{f(x_n)}{f'(x_n)} \\,$$"
     ]
    },
    {
     "cell_type": "markdown",
     "metadata": {},
     "source": [
      "_Abbreviated syntax for single line functions._\n",
      "\n",
      "_Multiplication symbol can sometimes be omitted_"
     ]
    },
    {
     "cell_type": "code",
     "collapsed": false,
     "input": [
      "poly(x) = x ^ 2 + x \n",
      "dpoly(x) = 2x + 1"
     ],
     "language": "python",
     "metadata": {},
     "outputs": []
    },
    {
     "cell_type": "code",
     "collapsed": false,
     "input": [
      "function poly_root() \n",
      "   x0=1\n",
      "   x1=x0 - (poly(x0)/dpoly(x0))\n",
      "   while abs(x1 - x0) > 1e-9\n",
      "       x0=x1\n",
      "       x1=x0 - (poly(x0)/dpoly(x0))\n",
      "   end\n",
      "   return x0\n",
      "end\n",
      "\n",
      "poly_root()"
     ],
     "language": "python",
     "metadata": {},
     "outputs": []
    },
    {
     "cell_type": "markdown",
     "metadata": {},
     "source": [
      "####First Class Functions"
     ]
    },
    {
     "cell_type": "code",
     "collapsed": false,
     "input": [
      "function root(f, g, init)  \n",
      "   x0=init\n",
      "   x1=x0 - (f(x0)/g(x0))\n",
      "   while abs(x1 - x0) > 1e-9\n",
      "       x0=x1\n",
      "       x1=x0 - (f(x0)/g(x0))\n",
      "   end\n",
      "   return x0\n",
      "end\n"
     ],
     "language": "python",
     "metadata": {},
     "outputs": []
    },
    {
     "cell_type": "code",
     "collapsed": false,
     "input": [
      "root(poly, dpoly, 1)"
     ],
     "language": "python",
     "metadata": {},
     "outputs": []
    },
    {
     "cell_type": "code",
     "collapsed": false,
     "input": [
      "root(sin, cos, 1)"
     ],
     "language": "python",
     "metadata": {},
     "outputs": []
    },
    {
     "cell_type": "code",
     "collapsed": false,
     "input": [
      "sin(2.923566201412306e-13)"
     ],
     "language": "python",
     "metadata": {},
     "outputs": []
    },
    {
     "cell_type": "markdown",
     "metadata": {},
     "source": [
      "_Anonymous functions _"
     ]
    },
    {
     "cell_type": "code",
     "collapsed": false,
     "input": [
      "root(x->x^2, x->2x, 1)"
     ],
     "language": "python",
     "metadata": {},
     "outputs": []
    },
    {
     "cell_type": "markdown",
     "metadata": {},
     "source": [
      "####For Loops"
     ]
    },
    {
     "cell_type": "code",
     "collapsed": false,
     "input": [
      "function prefix_sum(w)\n",
      "    for i=2:length(w)\n",
      "    w[i] += w[i-1]\n",
      "  end\n",
      "  return w\n",
      "end\n"
     ],
     "language": "python",
     "metadata": {},
     "outputs": []
    },
    {
     "cell_type": "code",
     "collapsed": false,
     "input": [
      "prefix_sum([1:10])"
     ],
     "language": "python",
     "metadata": {},
     "outputs": []
    },
    {
     "cell_type": "markdown",
     "metadata": {},
     "source": [
      "###Ranges"
     ]
    },
    {
     "cell_type": "code",
     "collapsed": false,
     "input": [
      "1:10"
     ],
     "language": "python",
     "metadata": {},
     "outputs": []
    },
    {
     "cell_type": "code",
     "collapsed": false,
     "input": [
      "typeof(1:10)"
     ],
     "language": "python",
     "metadata": {},
     "outputs": []
    },
    {
     "cell_type": "code",
     "collapsed": false,
     "input": [
      "typeof(1.0:0.5:10.0)"
     ],
     "language": "python",
     "metadata": {},
     "outputs": []
    },
    {
     "cell_type": "code",
     "collapsed": false,
     "input": [
      "[1.0:0.5:10.0]"
     ],
     "language": "python",
     "metadata": {},
     "outputs": []
    },
    {
     "cell_type": "markdown",
     "metadata": {},
     "source": [
      "##Numbers\n",
      "\n",
      "- Default 64 bit singed integers on 64 bit systems (Int64)\n",
      "  - 32 bit integers on 32 bit systems (Int32)\n",
      "  - Alias `Int` for system independent default integer type\n",
      "- 64 bit IEEE Floats (Float64)\n",
      "- Uses machine numbers \n",
      "  - Same binary layout as C\n",
      "  - No overflow/underflow checks"
     ]
    },
    {
     "cell_type": "code",
     "collapsed": false,
     "input": [
      "typeof(1)"
     ],
     "language": "python",
     "metadata": {},
     "outputs": []
    },
    {
     "cell_type": "code",
     "collapsed": false,
     "input": [
      "typeof(1.0)"
     ],
     "language": "python",
     "metadata": {},
     "outputs": []
    },
    {
     "cell_type": "code",
     "collapsed": false,
     "input": [
      "1/10"
     ],
     "language": "python",
     "metadata": {},
     "outputs": []
    },
    {
     "cell_type": "code",
     "collapsed": false,
     "input": [
      "eps(1.0)"
     ],
     "language": "python",
     "metadata": {},
     "outputs": []
    },
    {
     "cell_type": "code",
     "collapsed": false,
     "input": [
      "2^63 + 1"
     ],
     "language": "python",
     "metadata": {},
     "outputs": []
    },
    {
     "cell_type": "markdown",
     "metadata": {},
     "source": [
      "####BigNum"
     ]
    },
    {
     "cell_type": "code",
     "collapsed": false,
     "input": [
      "big(2)"
     ],
     "language": "python",
     "metadata": {},
     "outputs": []
    },
    {
     "cell_type": "code",
     "collapsed": false,
     "input": [
      "typeof(big(2))"
     ],
     "language": "python",
     "metadata": {},
     "outputs": []
    },
    {
     "cell_type": "code",
     "collapsed": false,
     "input": [
      "big(2)^63 + 1"
     ],
     "language": "python",
     "metadata": {},
     "outputs": []
    },
    {
     "cell_type": "code",
     "collapsed": false,
     "input": [
      "big(2.0)"
     ],
     "language": "python",
     "metadata": {},
     "outputs": []
    },
    {
     "cell_type": "markdown",
     "metadata": {},
     "source": [
      "####Rational Numbers"
     ]
    },
    {
     "cell_type": "code",
     "collapsed": false,
     "input": [
      "1//3"
     ],
     "language": "python",
     "metadata": {},
     "outputs": []
    },
    {
     "cell_type": "code",
     "collapsed": false,
     "input": [
      "typeof(1//3)"
     ],
     "language": "python",
     "metadata": {},
     "outputs": []
    },
    {
     "cell_type": "code",
     "collapsed": false,
     "input": [
      "1//3 + 1//5"
     ],
     "language": "python",
     "metadata": {},
     "outputs": []
    },
    {
     "cell_type": "markdown",
     "metadata": {},
     "source": [
      "####Complex Numbers"
     ]
    },
    {
     "cell_type": "code",
     "collapsed": false,
     "input": [
      "1 + 2im"
     ],
     "language": "python",
     "metadata": {},
     "outputs": []
    },
    {
     "cell_type": "code",
     "collapsed": false,
     "input": [
      "typeof(1+2im)"
     ],
     "language": "python",
     "metadata": {},
     "outputs": []
    },
    {
     "cell_type": "code",
     "collapsed": false,
     "input": [
      "exp(im*pi) + 1"
     ],
     "language": "python",
     "metadata": {},
     "outputs": []
    },
    {
     "cell_type": "markdown",
     "metadata": {},
     "source": [
      "##Arrays"
     ]
    },
    {
     "cell_type": "code",
     "collapsed": false,
     "input": [
      "a=rand(2,2)"
     ],
     "language": "python",
     "metadata": {},
     "outputs": []
    },
    {
     "cell_type": "code",
     "collapsed": false,
     "input": [
      "b=[1,2,3]"
     ],
     "language": "python",
     "metadata": {},
     "outputs": []
    },
    {
     "cell_type": "code",
     "collapsed": false,
     "input": [
      "a[1]"
     ],
     "language": "python",
     "metadata": {},
     "outputs": []
    },
    {
     "cell_type": "code",
     "collapsed": false,
     "input": [
      "c=[1 2 3]"
     ],
     "language": "python",
     "metadata": {},
     "outputs": []
    },
    {
     "cell_type": "code",
     "collapsed": false,
     "input": [
      "a[1,:]"
     ],
     "language": "python",
     "metadata": {},
     "outputs": []
    },
    {
     "cell_type": "code",
     "collapsed": false,
     "input": [
      "a[:,1]"
     ],
     "language": "python",
     "metadata": {},
     "outputs": []
    },
    {
     "cell_type": "code",
     "collapsed": false,
     "input": [
      "b[2:end]"
     ],
     "language": "python",
     "metadata": {},
     "outputs": []
    },
    {
     "cell_type": "code",
     "collapsed": false,
     "input": [
      "c=zeros(Float64, (3,3))"
     ],
     "language": "python",
     "metadata": {},
     "outputs": []
    },
    {
     "cell_type": "markdown",
     "metadata": {},
     "source": [
      "###Comprehensions"
     ]
    },
    {
     "cell_type": "code",
     "collapsed": false,
     "input": [
      "[x^2 for x=1:10]"
     ],
     "language": "python",
     "metadata": {},
     "outputs": []
    },
    {
     "cell_type": "code",
     "collapsed": false,
     "input": [
      "[x+y for x=1:10, y=1:10]"
     ],
     "language": "python",
     "metadata": {},
     "outputs": []
    },
    {
     "cell_type": "markdown",
     "metadata": {},
     "source": [
      "##Excercise \n",
      "\n",
      "Write an iterative implementation for the Fibonacci Sequence, and use it to find fib(100). One simple algorithm is to store the intermediate values in an array. "
     ]
    },
    {
     "cell_type": "code",
     "collapsed": false,
     "input": [],
     "language": "python",
     "metadata": {},
     "outputs": []
    },
    {
     "cell_type": "markdown",
     "metadata": {},
     "source": [
      "##Strings"
     ]
    },
    {
     "cell_type": "code",
     "collapsed": false,
     "input": [
      "typeof(\"abc\")"
     ],
     "language": "python",
     "metadata": {},
     "outputs": []
    },
    {
     "cell_type": "code",
     "collapsed": false,
     "input": [
      "typeof(\"\u03b1\u03b2\u03b3\")"
     ],
     "language": "python",
     "metadata": {},
     "outputs": []
    },
    {
     "cell_type": "code",
     "collapsed": false,
     "input": [
      "x=2; \n",
      "s=\"The square root of $x is $(sqrt(x))\""
     ],
     "language": "python",
     "metadata": {},
     "outputs": []
    },
    {
     "cell_type": "markdown",
     "metadata": {},
     "source": [
      "##Tuples\n",
      "Tuples are just a small collection of values. Usually function parameters are represented as tuples. In Julia, tuples are exposed to the programmer. Among other things, they can be used to return multple values from a function\n"
     ]
    },
    {
     "cell_type": "code",
     "collapsed": false,
     "input": [
      "(1,2)"
     ],
     "language": "python",
     "metadata": {},
     "outputs": []
    },
    {
     "cell_type": "code",
     "collapsed": false,
     "input": [
      "typeof((1,2))"
     ],
     "language": "python",
     "metadata": {},
     "outputs": []
    },
    {
     "cell_type": "code",
     "collapsed": false,
     "input": [
      "typeof(1,2)"
     ],
     "language": "python",
     "metadata": {},
     "outputs": []
    },
    {
     "cell_type": "code",
     "collapsed": false,
     "input": [
      "function sq_and_cb(x) \n",
      "    return (x^2, x^3)\n",
      "end"
     ],
     "language": "python",
     "metadata": {},
     "outputs": []
    },
    {
     "cell_type": "code",
     "collapsed": false,
     "input": [
      "sq_and_cb(9)"
     ],
     "language": "python",
     "metadata": {},
     "outputs": []
    },
    {
     "cell_type": "markdown",
     "metadata": {},
     "source": [
      "##Types and Method Dispatch"
     ]
    },
    {
     "cell_type": "markdown",
     "metadata": {},
     "source": [
      "###Types\n",
      " - Describes the domain of values\n",
      " - In Julia, it is tag on all values\n",
      " - There is a heirarchy of types\n",
      "   - eg: Number -> Integer -> Int64\n",
      "   "
     ]
    },
    {
     "cell_type": "markdown",
     "metadata": {},
     "source": [
      "###Abstract and concrete\n",
      " - Abstract types cannot hold data\n",
      " - Abstract types can be subclassed\n",
      " - Values are of a concrete type\n",
      " - Concrete types cannot subtyped (ie, they are final)"
     ]
    },
    {
     "cell_type": "markdown",
     "metadata": {},
     "source": [
      "#### _Any_ is the top type in Julia. All types are subtypes of Any\n",
      "#### _None_ is the bottom type. There are no instance of None, and it is the subtype of all types. "
     ]
    },
    {
     "cell_type": "markdown",
     "metadata": {},
     "source": [
      "###Multiple Dispatch"
     ]
    },
    {
     "cell_type": "code",
     "collapsed": false,
     "input": [
      "f(a, b) = \"fallback\"\n",
      "f(a::Number, b::Number) = \"a and b are both numbers\"\n",
      "f(a::Number, b) = \"a is a number\"\n",
      "f(a, b::Number) = \"b is a number\"\n",
      "f(a::Integer, b::Integer) = \"a and b are both integers\""
     ],
     "language": "python",
     "metadata": {},
     "outputs": []
    },
    {
     "cell_type": "code",
     "collapsed": false,
     "input": [
      "f(1.5,2)"
     ],
     "language": "python",
     "metadata": {},
     "outputs": []
    },
    {
     "cell_type": "code",
     "collapsed": false,
     "input": [
      "f(1, \"bar\")"
     ],
     "language": "python",
     "metadata": {},
     "outputs": []
    },
    {
     "cell_type": "code",
     "collapsed": false,
     "input": [
      "f(1,2)"
     ],
     "language": "python",
     "metadata": {},
     "outputs": []
    },
    {
     "cell_type": "code",
     "collapsed": false,
     "input": [
      "f(\"foo\", [1,2])"
     ],
     "language": "python",
     "metadata": {},
     "outputs": []
    },
    {
     "cell_type": "code",
     "collapsed": false,
     "input": [
      "methods(f)"
     ],
     "language": "python",
     "metadata": {},
     "outputs": []
    },
    {
     "cell_type": "markdown",
     "metadata": {},
     "source": [
      "####Type Parameters\n",
      "\n",
      "Method definitions can optionally have type parameters immediately after the method name and before the parameters tuple. The type declarations on the parameters itself can then be variable. "
     ]
    },
    {
     "cell_type": "markdown",
     "metadata": {},
     "source": [
      "####Diagonal Dispatch"
     ]
    },
    {
     "cell_type": "code",
     "collapsed": false,
     "input": [
      "f{T<:Number}(a::T, b::T) = \"a and b are both $(T)s\""
     ],
     "language": "python",
     "metadata": {},
     "outputs": []
    },
    {
     "cell_type": "code",
     "collapsed": false,
     "input": [
      "f(big(1.5),big(2.5))"
     ],
     "language": "python",
     "metadata": {},
     "outputs": []
    },
    {
     "cell_type": "code",
     "collapsed": false,
     "input": [
      "f(big(1),big(2)) #<== integer rule is more specific"
     ],
     "language": "python",
     "metadata": {},
     "outputs": []
    },
    {
     "cell_type": "code",
     "collapsed": false,
     "input": [
      "f(\"foo\",\"bar\") #<== still doesn't apply to non-numbers"
     ],
     "language": "python",
     "metadata": {},
     "outputs": []
    },
    {
     "cell_type": "markdown",
     "metadata": {},
     "source": [
      "####Varargs methods"
     ]
    },
    {
     "cell_type": "code",
     "collapsed": false,
     "input": [
      "f(args::Number...) = \"$(length(args))-parameters heterogeneous call\"\n",
      "f{T<:Number}(args::T...) = \"$(length(args))-parameters homogeneous call\""
     ],
     "language": "python",
     "metadata": {},
     "outputs": []
    },
    {
     "cell_type": "code",
     "collapsed": false,
     "input": [
      "f(1)"
     ],
     "language": "python",
     "metadata": {},
     "outputs": []
    },
    {
     "cell_type": "code",
     "collapsed": false,
     "input": [
      "f(1,2,3)"
     ],
     "language": "python",
     "metadata": {},
     "outputs": []
    },
    {
     "cell_type": "code",
     "collapsed": false,
     "input": [
      "f(1,1.5,2)"
     ],
     "language": "python",
     "metadata": {},
     "outputs": []
    },
    {
     "cell_type": "code",
     "collapsed": false,
     "input": [
      "f() # heterogeneous because we can't bind T"
     ],
     "language": "python",
     "metadata": {},
     "outputs": []
    },
    {
     "cell_type": "code",
     "collapsed": false,
     "input": [
      "f(1,2) # previous 2-arg method is more specific"
     ],
     "language": "python",
     "metadata": {},
     "outputs": []
    },
    {
     "cell_type": "code",
     "collapsed": false,
     "input": [
      "f(\"foo\") # doesn't apply to non-numbers"
     ],
     "language": "python",
     "metadata": {},
     "outputs": []
    },
    {
     "cell_type": "code",
     "collapsed": false,
     "input": [],
     "language": "python",
     "metadata": {},
     "outputs": []
    }
   ],
   "metadata": {}
  }
 ]
}