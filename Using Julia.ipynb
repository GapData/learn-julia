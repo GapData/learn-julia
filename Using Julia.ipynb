{
 "metadata": {
  "language": "Julia",
  "name": "",
  "signature": "sha256:3a5baabc25d5ebadb8000cdb08297b919d797760adcffd9b7f7345ca039d200f"
 },
 "nbformat": 3,
 "nbformat_minor": 0,
 "worksheets": [
  {
   "cells": [
    {
     "cell_type": "markdown",
     "metadata": {},
     "source": [
      "##Writing your own types\n",
      "\n",
      "- Abstract Types are defined with keyword \"abstract\"\n",
      "- Composite types are like C-structs, defined by \"type\"\n",
      "- Immutable types are similar, but cannot change fields\n",
      "        "
     ]
    },
    {
     "cell_type": "code",
     "collapsed": false,
     "input": [
      "abstract Shape\n",
      "\n",
      "type Circle <: Shape\n",
      "    radius::Float64\n",
      "end\n",
      "\n",
      "a=Circle(10) ##Constructor"
     ],
     "language": "python",
     "metadata": {},
     "outputs": []
    },
    {
     "cell_type": "code",
     "collapsed": false,
     "input": [
      "isa(a, Circle)"
     ],
     "language": "python",
     "metadata": {},
     "outputs": []
    },
    {
     "cell_type": "code",
     "collapsed": false,
     "input": [
      "isa(a, Shape)"
     ],
     "language": "python",
     "metadata": {},
     "outputs": []
    },
    {
     "cell_type": "markdown",
     "metadata": {},
     "source": [
      " - Immutable types are like normal composite types, but cannot change field values"
     ]
    },
    {
     "cell_type": "code",
     "collapsed": false,
     "input": [
      "immutable ICircle <: Shape\n",
      "    radius::Float64\n",
      "end"
     ],
     "language": "python",
     "metadata": {},
     "outputs": []
    },
    {
     "cell_type": "code",
     "collapsed": false,
     "input": [
      "b=ICircle(10)"
     ],
     "language": "python",
     "metadata": {},
     "outputs": []
    },
    {
     "cell_type": "code",
     "collapsed": false,
     "input": [
      "a.radius = 5"
     ],
     "language": "python",
     "metadata": {},
     "outputs": []
    },
    {
     "cell_type": "code",
     "collapsed": false,
     "input": [
      "b.radius = 5"
     ],
     "language": "python",
     "metadata": {},
     "outputs": []
    },
    {
     "cell_type": "markdown",
     "metadata": {},
     "source": [
      "## Organise your code\n",
      "- _require_ load a source file (read, parse)\n",
      "- _include_ lexically include a file at the current location"
     ]
    },
    {
     "cell_type": "markdown",
     "metadata": {},
     "source": [
      "##Modules\n",
      "- Defines a namespace:  _module ModuleName .... end_\n",
      "- method searches for dispatch happen within a module\n",
      "- Types and method names can be exported outside the module using _export_\n",
      "- Everything in a module can be referenced by _ModuleName.symbol_\n",
      "- Default module is _Main_\n",
      "- Add names for another module into your module with _using_\n",
      "  - requires the source file if named as _ModuleName.jl_\n",
      "- Add methods to functions from another module with _import_"
     ]
    },
    {
     "cell_type": "markdown",
     "metadata": {},
     "source": [
      "## Example: Modular Integers"
     ]
    },
    {
     "cell_type": "code",
     "collapsed": false,
     "input": [
      "module ModInts\n",
      "export ModInt\n",
      "import Base: convert, promote_rule, show, showcompact\n",
      "\n",
      "immutable ModInt{n} <: Integer\n",
      "    k::Int\n",
      "    ModInt(k) = new(k % n)\n",
      "end\n",
      "\n",
      "-{n2}(a::ModInt{n2}) = ModInt{n2}(-a.k)\n",
      "+{n}(a::ModInt{n}, b::ModInt{n}) = ModInt{n}(a.k+b.k)\n",
      "-{n}(a::ModInt{n}, b::ModInt{n}) = ModInt{n}(a.k-b.k)\n",
      "*{n}(a::ModInt{n}, b::ModInt{n}) = ModInt{n}(a.k*b.k)\n",
      "\n",
      "convert{n}(::Type{ModInt{n}}, i::Int) = ModInt{n}(i)\n",
      "promote_rule{n}(::Type{ModInt{n}}, ::Type{Int}) = ModInt{n}\n",
      "\n",
      "show{n}(io::IO, k::ModInt{n}) = print(io, \"$(k.k) mod $n\")\n",
      "showcompact(io::IO, k::ModInt) = print(io, k.k)\n",
      "\n",
      "end # module"
     ],
     "language": "python",
     "metadata": {},
     "outputs": []
    },
    {
     "cell_type": "code",
     "collapsed": false,
     "input": [
      "using ModInts"
     ],
     "language": "python",
     "metadata": {},
     "outputs": []
    },
    {
     "cell_type": "code",
     "collapsed": false,
     "input": [
      "ModInt"
     ],
     "language": "python",
     "metadata": {},
     "outputs": []
    },
    {
     "cell_type": "code",
     "collapsed": false,
     "input": [
      "ModInt{11}"
     ],
     "language": "python",
     "metadata": {},
     "outputs": []
    },
    {
     "cell_type": "code",
     "collapsed": false,
     "input": [
      "a=ModInt{11}(12345532425)"
     ],
     "language": "python",
     "metadata": {},
     "outputs": []
    },
    {
     "cell_type": "code",
     "collapsed": false,
     "input": [
      "b=ModInt{11}(23445134156)"
     ],
     "language": "python",
     "metadata": {},
     "outputs": []
    },
    {
     "cell_type": "code",
     "collapsed": false,
     "input": [
      "a+b"
     ],
     "language": "python",
     "metadata": {},
     "outputs": []
    },
    {
     "cell_type": "code",
     "collapsed": false,
     "input": [
      "a+1"
     ],
     "language": "python",
     "metadata": {},
     "outputs": []
    },
    {
     "cell_type": "code",
     "collapsed": false,
     "input": [
      "A = map(ModInt{11}, rand(1:1000, 5,5))"
     ],
     "language": "python",
     "metadata": {},
     "outputs": []
    },
    {
     "cell_type": "code",
     "collapsed": false,
     "input": [
      "A^10000000"
     ],
     "language": "python",
     "metadata": {},
     "outputs": []
    },
    {
     "cell_type": "markdown",
     "metadata": {},
     "source": [
      "##Packages\n",
      "\n",
      "http://pkg.julialang.org\n",
      "\n",
      "- All packages are hosted on git\n",
      "- Full dependency management\n",
      "- Binary dependencies also installed (mostly)"
     ]
    },
    {
     "cell_type": "code",
     "collapsed": false,
     "input": [
      "Pkg.add(\"Sparklines\")"
     ],
     "language": "python",
     "metadata": {},
     "outputs": []
    },
    {
     "cell_type": "code",
     "collapsed": false,
     "input": [
      "using Sparklines\n",
      "spark(sin(0:0.2:2pi))"
     ],
     "language": "python",
     "metadata": {},
     "outputs": []
    },
    {
     "cell_type": "code",
     "collapsed": false,
     "input": [
      "Pkg.rm(\"Sparklines\")"
     ],
     "language": "python",
     "metadata": {},
     "outputs": []
    },
    {
     "cell_type": "code",
     "collapsed": false,
     "input": [
      "Pkg.status()"
     ],
     "language": "python",
     "metadata": {},
     "outputs": []
    },
    {
     "cell_type": "markdown",
     "metadata": {},
     "source": [
      "##Linear Algebra\n",
      " - OpenBLAS "
     ]
    },
    {
     "cell_type": "code",
     "collapsed": false,
     "input": [
      "A=rand(10,10)"
     ],
     "language": "python",
     "metadata": {},
     "outputs": []
    },
    {
     "cell_type": "code",
     "collapsed": false,
     "input": [
      "b=rand(10,10)"
     ],
     "language": "python",
     "metadata": {},
     "outputs": []
    },
    {
     "cell_type": "code",
     "collapsed": false,
     "input": [
      "A * b"
     ],
     "language": "python",
     "metadata": {},
     "outputs": []
    },
    {
     "cell_type": "markdown",
     "metadata": {},
     "source": [
      "####Pairwise multiplication"
     ]
    },
    {
     "cell_type": "code",
     "collapsed": false,
     "input": [
      "A .* b"
     ],
     "language": "python",
     "metadata": {},
     "outputs": []
    },
    {
     "cell_type": "markdown",
     "metadata": {},
     "source": [
      "####Scalar Broadcast"
     ]
    },
    {
     "cell_type": "code",
     "collapsed": false,
     "input": [
      "A .* 10"
     ],
     "language": "python",
     "metadata": {},
     "outputs": []
    },
    {
     "cell_type": "markdown",
     "metadata": {},
     "source": [
      "####Solving linear systems"
     ]
    },
    {
     "cell_type": "code",
     "collapsed": false,
     "input": [
      "x = A \\ b"
     ],
     "language": "python",
     "metadata": {},
     "outputs": []
    },
    {
     "cell_type": "code",
     "collapsed": false,
     "input": [
      "c = A*x - b"
     ],
     "language": "python",
     "metadata": {},
     "outputs": []
    },
    {
     "cell_type": "code",
     "collapsed": false,
     "input": [
      "round(c)"
     ],
     "language": "python",
     "metadata": {},
     "outputs": []
    },
    {
     "cell_type": "code",
     "collapsed": false,
     "input": [
      "fft(A)"
     ],
     "language": "python",
     "metadata": {},
     "outputs": []
    },
    {
     "cell_type": "markdown",
     "metadata": {},
     "source": [
      "##Statistical Libraries\n",
      "http://juliastats.org"
     ]
    },
    {
     "cell_type": "markdown",
     "metadata": {},
     "source": [
      "###StatsBase\n",
      "\n",
      "####Basic Statistics for Julia\n",
      "https://github.com/JuliaStats/StatsBase.jl"
     ]
    },
    {
     "cell_type": "code",
     "collapsed": false,
     "input": [
      "using StatsBase\n",
      "x=rand(10)\n",
      "skewness(x)"
     ],
     "language": "python",
     "metadata": {},
     "outputs": []
    },
    {
     "cell_type": "markdown",
     "metadata": {},
     "source": [
      "###DataFrames\n",
      "####Store and manipulate tabular data\n",
      "http://dataframesjl.readthedocs.org/en/latest/"
     ]
    },
    {
     "cell_type": "code",
     "collapsed": false,
     "input": [
      "using DataFrames\n",
      "df = DataFrame(A = 1:4, B = [\"M\", \"F\", \"F\", \"M\"])"
     ],
     "language": "python",
     "metadata": {},
     "outputs": []
    },
    {
     "cell_type": "code",
     "collapsed": false,
     "input": [
      "mean(df[:A])"
     ],
     "language": "python",
     "metadata": {},
     "outputs": []
    },
    {
     "cell_type": "markdown",
     "metadata": {},
     "source": [
      "###RDataSets\n",
      "####Using classic statistical datasets\n",
      "https://github.com/johnmyleswhite/RDatasets.jl"
     ]
    },
    {
     "cell_type": "code",
     "collapsed": false,
     "input": [
      "using RDatasets\n",
      "iris = dataset(\"datasets\", \"iris\")\n",
      "head(iris)"
     ],
     "language": "python",
     "metadata": {},
     "outputs": []
    },
    {
     "cell_type": "markdown",
     "metadata": {},
     "source": [
      "###GLM\n",
      "#### Generalised Linear Models\n",
      "https://github.com/JuliaStats/GLM.jl"
     ]
    },
    {
     "cell_type": "code",
     "collapsed": false,
     "input": [
      "using GLM\n",
      "form = dataset(\"datasets\",\"Formaldehyde\")\n"
     ],
     "language": "python",
     "metadata": {},
     "outputs": []
    },
    {
     "cell_type": "code",
     "collapsed": false,
     "input": [
      "lm1 = lm(OptDen ~ Carb, form)"
     ],
     "language": "python",
     "metadata": {},
     "outputs": []
    },
    {
     "cell_type": "code",
     "collapsed": false,
     "input": [
      "confint(lm1)\n",
      "predict(lm1)"
     ],
     "language": "python",
     "metadata": {},
     "outputs": []
    },
    {
     "cell_type": "code",
     "collapsed": false,
     "input": [
      "dobson = DataFrame(Counts = [18.,17,15,20,10,20,25,13,12],\n",
      "                          Outcome = gl(3,1,9),\n",
      "                          Treatment = gl(3,3))"
     ],
     "language": "python",
     "metadata": {},
     "outputs": []
    },
    {
     "cell_type": "code",
     "collapsed": false,
     "input": [
      "gm1 = fit(GeneralizedLinearModel, Counts ~ Outcome + Treatment, dobson, Poisson())"
     ],
     "language": "python",
     "metadata": {},
     "outputs": []
    },
    {
     "cell_type": "code",
     "collapsed": false,
     "input": [
      "deviance(gm1)"
     ],
     "language": "python",
     "metadata": {},
     "outputs": []
    },
    {
     "cell_type": "markdown",
     "metadata": {},
     "source": [
      "###Distributions\n",
      "http://distributionsjl.readthedocs.org/en/latest/"
     ]
    },
    {
     "cell_type": "code",
     "collapsed": false,
     "input": [
      "using Distributions\n",
      "p=Weibull(2,7)"
     ],
     "language": "python",
     "metadata": {},
     "outputs": []
    },
    {
     "cell_type": "code",
     "collapsed": false,
     "input": [
      "std(p)"
     ],
     "language": "python",
     "metadata": {},
     "outputs": []
    },
    {
     "cell_type": "code",
     "collapsed": false,
     "input": [
      "pdf(p, 1.0)"
     ],
     "language": "python",
     "metadata": {},
     "outputs": []
    },
    {
     "cell_type": "code",
     "collapsed": false,
     "input": [
      "rand(p,10)"
     ],
     "language": "python",
     "metadata": {},
     "outputs": []
    },
    {
     "cell_type": "markdown",
     "metadata": {},
     "source": [
      "##Charts in Julia"
     ]
    },
    {
     "cell_type": "markdown",
     "metadata": {},
     "source": [
      "###Gadfly\n",
      "http://gadflyjl.org/"
     ]
    },
    {
     "cell_type": "code",
     "collapsed": false,
     "input": [
      "using Gadfly"
     ],
     "language": "python",
     "metadata": {},
     "outputs": []
    },
    {
     "cell_type": "code",
     "collapsed": false,
     "input": [
      "plot([sin, cos], 0, 25)"
     ],
     "language": "python",
     "metadata": {},
     "outputs": []
    },
    {
     "cell_type": "code",
     "collapsed": false,
     "input": [
      "plot(x=1:10, y=2.^rand(10))#Geom.point, Geom.line, Geom.smooth, Scale.y_sqrt, Geom.point, Geom.smooth, Guide.xlabel(\"Stimulus\"), Guide.ylabel(\"Response\")"
     ],
     "language": "python",
     "metadata": {},
     "outputs": []
    },
    {
     "cell_type": "code",
     "collapsed": false,
     "input": [
      "dataset(\"datasets\", \"iris\")"
     ],
     "language": "python",
     "metadata": {},
     "outputs": []
    },
    {
     "cell_type": "code",
     "collapsed": false,
     "input": [
      "plot(df, x=\"SepalLength\", y=\"SepalWidth\", color=\"Species\", Geom.point)"
     ],
     "language": "python",
     "metadata": {},
     "outputs": []
    },
    {
     "cell_type": "markdown",
     "metadata": {},
     "source": [
      "###MatPlotLib, via PyPlot.jl\n",
      "https://github.com/stevengj/PyPlot.jl"
     ]
    },
    {
     "cell_type": "code",
     "collapsed": false,
     "input": [
      "using PyPlot"
     ],
     "language": "python",
     "metadata": {},
     "outputs": []
    },
    {
     "cell_type": "code",
     "collapsed": false,
     "input": [
      "y = linspace(0,2\u03c0,50)\n",
      "surf(y, y, sin(y) .* cos(y)')"
     ],
     "language": "python",
     "metadata": {},
     "outputs": []
    },
    {
     "cell_type": "code",
     "collapsed": false,
     "input": [
      "xkcd()\n",
      "fig = figure(figsize=(10,5))\n",
      "ax = axes()\n",
      "p = plot(y,sin(3y + cos(5y)))\n",
      "ax[:set_xlim]([0.0,6])\n",
      "annotate(\"A little\\nsketchy\",xy=[0.98,.001],arrowprops=[\"arrowstyle\"=>\"->\"],xytext=[1.3,-0.3])\n",
      "\n",
      "xticks([])\n",
      "yticks([])\n",
      "xlabel(\"TIME\")\n",
      "ylabel(\"PRODUCTIVITY\")\n",
      "title(\"An xkcd-style plot in Julia\")\n",
      "\n",
      "ax[:spines][\"top\"][:set_color](\"none\") # Remove the top axis boundary\n",
      "ax[:spines][\"right\"][:set_color](\"none\") # Remove the right axis boundary\n"
     ],
     "language": "python",
     "metadata": {},
     "outputs": []
    },
    {
     "cell_type": "code",
     "collapsed": false,
     "input": [],
     "language": "python",
     "metadata": {},
     "outputs": []
    }
   ],
   "metadata": {}
  }
 ]
}