{
 "metadata": {
  "language": "Julia",
  "name": "",
  "signature": "sha256:4a31f422c191faaedd775bce3632b87e27f0036cca21fd55bf400db3e4b0f267"
 },
 "nbformat": 3,
 "nbformat_minor": 0,
 "worksheets": [
  {
   "cells": [
    {
     "cell_type": "markdown",
     "metadata": {},
     "source": [
      "##Performance of Julia code\n",
      "\n",
      "http://julia.readthedocs.org/en/latest/manual/performance-tips/"
     ]
    },
    {
     "cell_type": "markdown",
     "metadata": {},
     "source": [
      "One of the reasons Julia is fast is that the runtime compiles and caches specialised versions of all methods."
     ]
    },
    {
     "cell_type": "code",
     "collapsed": false,
     "input": [
      "function prefix_sum(w)\n",
      "    for i=2:length(w)\n",
      "    w[i] += w[i-1]\n",
      "  end\n",
      "  return w\n",
      "end"
     ],
     "language": "python",
     "metadata": {},
     "outputs": [
      {
       "metadata": {},
       "output_type": "pyout",
       "prompt_number": 1,
       "text": [
        "prefix_sum (generic function with 1 method)"
       ]
      }
     ],
     "prompt_number": 1
    },
    {
     "cell_type": "code",
     "collapsed": false,
     "input": [
      "x = ones(1000000)\n",
      "@time prefix_sum(x)\n",
      "y = ones(1000000) + im*ones(1000000)\n",
      "@time prefix_sum(y);"
     ],
     "language": "python",
     "metadata": {},
     "outputs": [
      {
       "output_type": "stream",
       "stream": "stdout",
       "text": [
        "elapsed time: 0."
       ]
      },
      {
       "output_type": "stream",
       "stream": "stdout",
       "text": [
        "00344652 seconds (80 bytes allocated)\n",
        "elapsed time: 0.00342176 seconds (80 bytes allocated)\n"
       ]
      }
     ],
     "prompt_number": 6
    },
    {
     "cell_type": "markdown",
     "metadata": {},
     "source": [
      "Remarkably, we get very similar times for an array of primitive floats, versus an array of complex(sic) values."
     ]
    },
    {
     "cell_type": "markdown",
     "metadata": {},
     "source": [
      "###Type Stable\n",
      " For this to work, Julia code must be type stable. \n"
     ]
    },
    {
     "cell_type": "markdown",
     "metadata": {},
     "source": [
      "#### Return type of a method must only depend on the types of its parameters, not their values"
     ]
    },
    {
     "cell_type": "code",
     "collapsed": false,
     "input": [
      "sqrt(-1)"
     ],
     "language": "python",
     "metadata": {},
     "outputs": [
      {
       "ename": "LoadError",
       "evalue": "DomainError\nwhile loading In[6], in expression starting on line 1",
       "output_type": "pyerr",
       "traceback": [
        "DomainError\nwhile loading In[6], in expression starting on line 1",
        "",
        " in sqrt at math.jl:131"
       ]
      }
     ],
     "prompt_number": 6
    },
    {
     "cell_type": "code",
     "collapsed": false,
     "input": [
      "sqrt(-1 - 0im)"
     ],
     "language": "python",
     "metadata": {},
     "outputs": [
      {
       "metadata": {},
       "output_type": "pyout",
       "prompt_number": 7,
       "text": [
        "0.0 + 1.0im"
       ]
      }
     ],
     "prompt_number": 7
    },
    {
     "cell_type": "markdown",
     "metadata": {},
     "source": [
      "This is also partly why Julia does not automatically promote to BigNum on overflow"
     ]
    },
    {
     "cell_type": "markdown",
     "metadata": {},
     "source": [
      "####Variables in inner loops must not change types"
     ]
    },
    {
     "cell_type": "code",
     "collapsed": false,
     "input": [
      "function sum1(N)\n",
      "    total = 0\n",
      "    \n",
      "    for i in 1:N\n",
      "        total += i/2\n",
      "    end\n",
      "    \n",
      "    total\n",
      "end\n",
      "\n",
      "function sum2(N)\n",
      "    total = 0.0\n",
      "    \n",
      "    for i in 1:N\n",
      "        total += i/2\n",
      "    end\n",
      "    \n",
      "    total\n",
      "end"
     ],
     "language": "python",
     "metadata": {},
     "outputs": [
      {
       "metadata": {},
       "output_type": "pyout",
       "prompt_number": 11,
       "text": [
        "sum2 (generic function with 2 methods)"
       ]
      }
     ],
     "prompt_number": 11
    },
    {
     "cell_type": "code",
     "collapsed": false,
     "input": [
      "sum1(100), sum2(100)"
     ],
     "language": "python",
     "metadata": {},
     "outputs": [
      {
       "metadata": {},
       "output_type": "pyout",
       "prompt_number": 12,
       "text": [
        "(2525.0,2525.0)"
       ]
      }
     ],
     "prompt_number": 12
    },
    {
     "cell_type": "code",
     "collapsed": false,
     "input": [
      "@time sum1(10000000)\n",
      "@time sum2(10000000)"
     ],
     "language": "python",
     "metadata": {},
     "outputs": [
      {
       "output_type": "stream",
       "stream": "stdout",
       "text": [
        "elapsed time: 0."
       ]
      },
      {
       "output_type": "stream",
       "stream": "stdout",
       "text": [
        "762467091 seconds (320000112 bytes allocated, 46.41% gc time)\n",
        "elapsed time: 0.040254951 seconds (96 bytes allocated)\n"
       ]
      },
      {
       "metadata": {},
       "output_type": "pyout",
       "prompt_number": 14,
       "text": [
        "2.50000025e13"
       ]
      }
     ],
     "prompt_number": 14
    },
    {
     "cell_type": "code",
     "collapsed": false,
     "input": [
      "code_llvm(sum1, (Int,))"
     ],
     "language": "python",
     "metadata": {},
     "outputs": [
      {
       "output_type": "stream",
       "stream": "stdout",
       "text": [
        "\n",
        "define %jl_value_t* @\"julia_sum1;21558\"(i64) {\n",
        "top:\n",
        "  %1 = alloca [5 x %jl_value_t*], align 8\n",
        "  %.sub = getelementptr inbounds [5 x %jl_value_t*]* %1, i64 0, i64 0\n",
        "  %2 = getelementptr [5 x %jl_value_t*]* %1, i64 0, i64 2, !dbg !5150\n",
        "  store %jl_value_t* inttoptr (i64 6 to %jl_value_t*), %jl_value_t** %.sub, align 8\n",
        "  %3 = load %jl_value_t*** @jl_pgcstack, align 8, !dbg !5150\n",
        "  %4 = getelementptr [5 x %jl_value_t*]* %1, i64 0, i64 1, !dbg !5150\n",
        "  %.c = bitcast %jl_value_t** %3 to %jl_value_t*, !dbg !5150\n",
        "  store %jl_value_t* %.c, %jl_value_t** %4, align 8, !dbg !5150\n",
        "  store %jl_value_t** %.sub, %jl_value_t*** @jl_pgcstack, align 8, !dbg !5150\n",
        "  %5 = getelementptr [5 x %jl_value_t*]* %1, i64 0, i64 3\n",
        "  store %jl_value_t* null, %jl_value_t** %5, align 8\n",
        "  %6 = getelementptr [5 x %jl_value_t*]* %1, i64 0, i64 4\n",
        "  store %jl_value_t* null, %jl_value_t** %6, align 8\n",
        "  store %jl_value_t* inttoptr (i64 140595251226688 to %jl_value_t*), %jl_value_t** %2, align 8, !dbg !5151\n",
        "  %7 = icmp sgt i64 %0, 0, !dbg !5152\n",
        "  br i1 %7, label %L, label %L3, !dbg !5152\n",
        "\n",
        "L:                                                ; preds = %top, %L\n",
        "  %8 = phi %jl_value_t* [ %16, %L ], [ inttoptr (i64 140595251226688 to %jl_value_t*), %top ], !dbg !5152\n",
        "  %\"#s2030.0\" = phi i64 [ %9, %L ], [ 1, %top ]\n",
        "  %9 = add i64 %\"#s2030.0\", 1, !dbg !5152\n",
        "  store %jl_value_t* %8, %jl_value_t** %5, align 8, !dbg !5153\n",
        "  %10 = sitofp i64 %\"#s2030.0\" to double, !dbg !5153\n",
        "  %11 = fmul double %10, 5.000000e-01, !dbg !5153\n",
        "  %12 = call %jl_value_t* @alloc_2w(), !dbg !5153\n",
        "  %13 = getelementptr inbounds %jl_value_t* %12, i64 0, i32 0, !dbg !5153\n",
        "  store %jl_value_t* inttoptr (i64 140595251150656 to %jl_value_t*), %jl_value_t** %13, align 8, !dbg !5153\n",
        "  %14 = getelementptr inbounds %jl_value_t* %12, i64 1, i32 0, !dbg !5153\n",
        "  %15 = bitcast %jl_value_t** %14 to double*, !dbg !5153\n",
        "  store double %11, double* %15, align 8, !dbg !5153\n",
        "  store %jl_value_t* %12, %jl_value_t** %6, align 8, !dbg !5153\n",
        "  %16 = call %jl_value_t* @jl_apply_generic(%jl_value_t* inttoptr (i64 140595262296736 to %jl_value_t*), %jl_value_t** %5, i32 2), !dbg !5153\n",
        "  store %jl_value_t* %16, %jl_value_t** %2, align 8, !dbg !5153\n",
        "  %17 = icmp eq i64 %\"#s2030.0\", %0, !dbg !5153\n",
        "  br i1 %17, label %L3, label %L, !dbg !5153\n",
        "\n",
        "L3:                                               ; preds = %L, %top\n",
        "  %18 = phi %jl_value_t* [ inttoptr (i64 140595251226688 to %jl_value_t*), %top ], [ %16, %L ]\n",
        "  %19 = load %jl_value_t** %4, align 8, !dbg !5154\n",
        "  %20 = getelementptr inbounds %jl_value_t* %19, i64 0, i32 0, !dbg !5154\n",
        "  store %jl_value_t** %20, %jl_value_t*** @jl_pgcstack, align 8, !dbg !5154\n",
        "  ret %jl_value_t* %18, !dbg !5154\n",
        "}\n"
       ]
      }
     ],
     "prompt_number": 17
    },
    {
     "cell_type": "code",
     "collapsed": false,
     "input": [
      "code_llvm(sum2, (Int,))"
     ],
     "language": "python",
     "metadata": {},
     "outputs": [
      {
       "output_type": "stream",
       "stream": "stdout",
       "text": [
        "\n",
        "define double @\"julia_sum2;21560\"(i64) {\n",
        "top:\n",
        "  %1 = icmp sgt i64 %0, 0, !dbg !5156\n",
        "  br i1 %1, label %L, label %L3, !dbg !5156\n",
        "\n",
        "L:                                                ; preds = %top, %L\n",
        "  %total.0 = phi double [ %5, %L ], [ 0.000000e+00, %top ]\n",
        "  %\"#s2038.0\" = phi i64 [ %2, %L ], [ 1, %top ]\n",
        "  %2 = add i64 %\"#s2038.0\", 1, !dbg !5156\n",
        "  %3 = sitofp i64 %\"#s2038.0\" to double, !dbg !5157\n",
        "  %4 = fmul double %3, 5.000000e-01, !dbg !5157\n",
        "  %5 = fadd double %total.0, %4, !dbg !5157\n",
        "  %6 = icmp eq i64 %\"#s2038.0\", %0, !dbg !5157\n",
        "  br i1 %6, label %L3, label %L, !dbg !5157\n",
        "\n",
        "L3:                                               ; preds = %L, %top\n",
        "  %total.1 = phi double [ 0.000000e+00, %top ], [ %5, %L ]\n",
        "  ret double %total.1, !dbg !5158\n",
        "}\n"
       ]
      }
     ],
     "prompt_number": 18
    },
    {
     "cell_type": "markdown",
     "metadata": {},
     "source": [
      "####No Global variables\n",
      "Global variables are very slow in Julia, since the compiler cannot guarantee at any point that the value of such a variable does not change. Try to move all variables to function scope. Anything that absolutely must be global should be declared _const_"
     ]
    },
    {
     "cell_type": "markdown",
     "metadata": {},
     "source": [
      "## Calling C libraries from Julia\n",
      "Julia has a zero overhead ability to call any C library, using the _ccall_ function. "
     ]
    },
    {
     "cell_type": "code",
     "collapsed": false,
     "input": [
      "t=ccall( (:clock, \"libc\"), Cint, ())"
     ],
     "language": "python",
     "metadata": {},
     "outputs": [
      {
       "metadata": {},
       "output_type": "pyout",
       "prompt_number": 11,
       "text": [
        "13809846"
       ]
      }
     ],
     "prompt_number": 11
    },
    {
     "cell_type": "markdown",
     "metadata": {},
     "source": [
      "- Tuple of function name, library name\n",
      "- Type of return value\n",
      "- Tuple of types of function parameters\n",
      "- Function parameter values"
     ]
    },
    {
     "cell_type": "code",
     "collapsed": false,
     "input": [
      "ccall(:printf, Cint, (Ptr{Uint8},), \"Hello, world!\")"
     ],
     "language": "python",
     "metadata": {},
     "outputs": [
      {
       "output_type": "stream",
       "stream": "stdout",
       "text": [
        "Hello, world!"
       ]
      },
      {
       "metadata": {},
       "output_type": "pyout",
       "prompt_number": 12,
       "text": [
        "13"
       ]
      }
     ],
     "prompt_number": 12
    },
    {
     "cell_type": "code",
     "collapsed": false,
     "input": [
      "csin(x) = ccall((:sin,\"libm\"), Cdouble, (Cdouble,), x)"
     ],
     "language": "python",
     "metadata": {},
     "outputs": [
      {
       "metadata": {},
       "output_type": "pyout",
       "prompt_number": 13,
       "text": [
        "csin (generic function with 1 method)"
       ]
      }
     ],
     "prompt_number": 13
    },
    {
     "cell_type": "code",
     "collapsed": false,
     "input": [
      "csin(3)"
     ],
     "language": "python",
     "metadata": {},
     "outputs": [
      {
       "metadata": {},
       "output_type": "pyout",
       "prompt_number": 14,
       "text": [
        "0.1411200080598672"
       ]
      }
     ],
     "prompt_number": 14
    },
    {
     "cell_type": "code",
     "collapsed": false,
     "input": [
      "sin(3) - csin(3)"
     ],
     "language": "python",
     "metadata": {},
     "outputs": [
      {
       "metadata": {},
       "output_type": "pyout",
       "prompt_number": 15,
       "text": [
        "0.0"
       ]
      }
     ],
     "prompt_number": 15
    },
    {
     "cell_type": "markdown",
     "metadata": {},
     "source": [
      "##Calling Python Programs from Julia\n",
      "\n",
      "Thanks to the PyCall package, arbitrary python functions can be called using CPython's C API\n",
      "\n",
      "https://github.com/stevengj/PyCall.jl"
     ]
    },
    {
     "cell_type": "code",
     "collapsed": false,
     "input": [
      "using PyCall\n",
      "@pyimport math as pymath"
     ],
     "language": "python",
     "metadata": {},
     "outputs": [],
     "prompt_number": 2
    },
    {
     "cell_type": "code",
     "collapsed": false,
     "input": [
      "pymath.sin(3)"
     ],
     "language": "python",
     "metadata": {},
     "outputs": [
      {
       "metadata": {},
       "output_type": "pyout",
       "prompt_number": 3,
       "text": [
        "0.1411200080598672"
       ]
      }
     ],
     "prompt_number": 3
    },
    {
     "cell_type": "code",
     "collapsed": false,
     "input": [
      "sin(3) - pymath.sin(3)"
     ],
     "language": "python",
     "metadata": {},
     "outputs": [
      {
       "metadata": {},
       "output_type": "pyout",
       "prompt_number": 5,
       "text": [
        "0.0"
       ]
      }
     ],
     "prompt_number": 5
    },
    {
     "cell_type": "markdown",
     "metadata": {},
     "source": [
      "Arrays sent to python are copy free. Return arrays are copied. "
     ]
    },
    {
     "cell_type": "code",
     "collapsed": false,
     "input": [
      "@pyimport numpy as np\n",
      "x = [-100, 39, 59, 55, 20]\n",
      "np.irr(x)"
     ],
     "language": "python",
     "metadata": {},
     "outputs": [
      {
       "output_type": "stream",
       "stream": "stderr",
       "text": [
        "Warning: imported binding for transpose overwritten in module __anon__\n"
       ]
      },
      {
       "metadata": {},
       "output_type": "pyout",
       "prompt_number": 6,
       "text": [
        "0.2809484211599609"
       ]
      }
     ],
     "prompt_number": 6
    },
    {
     "cell_type": "markdown",
     "metadata": {},
     "source": [
      "####Passing Julia functions to python\n",
      "Useful for optimisation, root finding etc. "
     ]
    },
    {
     "cell_type": "code",
     "collapsed": false,
     "input": [
      "@pyimport scipy.optimize as so\n",
      "function f(x)\n",
      "    println(\"Julia function called with $x\")\n",
      "    cos(x) - x\n",
      "end\n",
      "so.newton(f, 1.2)"
     ],
     "language": "python",
     "metadata": {},
     "outputs": [
      {
       "output_type": "stream",
       "stream": "stdout",
       "text": [
        "Julia function called with 1.2\n"
       ]
      },
      {
       "output_type": "stream",
       "stream": "stdout",
       "text": [
        "Julia function called with 1.2002199999999998\n",
        "Julia function called with 0.7664554749111869\n",
        "Julia function called with 0.7412167885608414\n",
        "Julia function called with 0.7390978176492645\n",
        "Julia function called with 0.7390851391787693\n"
       ]
      },
      {
       "metadata": {},
       "output_type": "pyout",
       "prompt_number": 8,
       "text": [
        "0.7390851332151773"
       ]
      }
     ],
     "prompt_number": 8
    },
    {
     "cell_type": "markdown",
     "metadata": {},
     "source": [
      "Similary, there is JavaCall.jl, that allows calling Java programs from Julia, and a forthcoming RubyCall.jl"
     ]
    },
    {
     "cell_type": "markdown",
     "metadata": {},
     "source": [
      "##Interactive widgets\n",
      "\n",
      "Using a functional reactive framework, Interact.jl allows creation of interactive widgets in IJulia"
     ]
    },
    {
     "cell_type": "code",
     "collapsed": false,
     "input": [
      "using Interact"
     ],
     "language": "python",
     "metadata": {},
     "outputs": [
      {
       "html": [
        "<script charset=\"utf-8\">(function ($, undefined) {\n",
        "\n",
        "    function createElem(tag, attr, content) {\n",
        "\t// TODO: remove jQuery dependency\n",
        "\tvar el = $(\"<\" + tag + \"/>\").attr(attr);\n",
        "\tif (content) {\n",
        "\t    el.append(content);\n",
        "\t}\n",
        "\treturn el[0];\n",
        "    }\n",
        "\n",
        "    // A widget must expose an id field which identifies it to the backend,\n",
        "    // an elem attribute which is will be added to the DOM, and\n",
        "    // a getState() method which returns the value to be sent to the backend\n",
        "    // a sendUpdate() method which sends its current value to the backend\n",
        "    var Widget = {\n",
        "\tid: undefined,\n",
        "\telem: undefined,\n",
        "\tlabel: undefined,\n",
        "\tgetState: function () {\n",
        "\t    return this.elem.value;\n",
        "\t},\n",
        "\tsendUpdate: undefined\n",
        "    };\n",
        "\n",
        "    var Slider = function (typ, id, init) {\n",
        "\tvar attr = { type:  \"range\",\n",
        "\t\t     value: init.value,\n",
        "\t\t     min:   init.min,\n",
        "\t\t     max:   init.max,\n",
        "\t\t     step:  init.step },\n",
        "\t    elem = createElem(\"input\", attr),\n",
        "\t    self = this;\n",
        "\n",
        "\telem.onchange = function () {\n",
        "\t    self.sendUpdate();\n",
        "\t}\n",
        "\n",
        "\tthis.id = id;\n",
        "\tthis.elem = elem;\n",
        "\tthis.label = init.label;\n",
        "\n",
        "\tInputWidgets.commInitializer(this); // Initialize communication\n",
        "    }\n",
        "    Slider.prototype = Widget;\n",
        "\n",
        "    var Checkbox = function (typ, id, init) {\n",
        "\tvar attr = { type: \"checkbox\",\n",
        "\t\t     checked: init.value },\n",
        "\t    elem = createElem(\"input\", attr),\n",
        "\t    self = this;\n",
        "\n",
        "\tthis.getState = function () {\n",
        "\t    return elem.checked;\n",
        "\t}\n",
        "\telem.onchange = function () {\n",
        "\t    self.sendUpdate();\n",
        "\t}\n",
        "\n",
        "\tthis.id = id;\n",
        "\tthis.elem = elem;\n",
        "\tthis.label = init.label;\n",
        "\n",
        "\tInputWidgets.commInitializer(this);\n",
        "    }\n",
        "    Checkbox.prototype = Widget;\n",
        "\n",
        "    var Button = function (typ, id, init) {\n",
        "\tvar attr = { type:    \"button\",\n",
        "\t\t     value:   init.label },\n",
        "\t    elem = createElem(\"input\", attr),\n",
        "\t    self = this;\n",
        "\tthis.getState = function () {\n",
        "\t    return null;\n",
        "\t}\n",
        "\telem.onclick = function () {\n",
        "\t    self.sendUpdate();\n",
        "\t}\n",
        "\n",
        "\tthis.id = id;\n",
        "\tthis.elem = elem;\n",
        "\tthis.label = init.label;\n",
        "\n",
        "\tInputWidgets.commInitializer(this);\n",
        "    }\n",
        "    Button.prototype = Widget;\n",
        "\n",
        "    var Text = function (typ, id, init) {\n",
        "\tvar attr = { type:  \"text\",\n",
        "\t\t     placeholder: init.label,\n",
        "\t\t     value: init.value },\n",
        "\t    elem = createElem(\"input\", attr),\n",
        "\t    self = this;\n",
        "\tthis.getState = function () {\n",
        "\t    return elem.value;\n",
        "\t}\n",
        "\telem.onkeyup = function () {\n",
        "\t    self.sendUpdate();\n",
        "\t}\n",
        "\n",
        "\tthis.id = id;\n",
        "\tthis.elem = elem;\n",
        "\tthis.label = init.label;\n",
        "\n",
        "\tInputWidgets.commInitializer(this);\n",
        "    }\n",
        "    Text.prototype = Widget;\n",
        "\n",
        "    var Textarea = function (typ, id, init) {\n",
        "\tvar attr = { placeholder: init.label },\n",
        "\t    elem = createElem(\"textarea\", attr, init.value),\n",
        "\t    self = this;\n",
        "\tthis.getState = function () {\n",
        "\t    return elem.value;\n",
        "\t}\n",
        "\telem.onchange = function () {\n",
        "\t    self.sendUpdate();\n",
        "\t}\n",
        "\n",
        "\tthis.id = id;\n",
        "\tthis.elem = elem;\n",
        "\tthis.label = init.label;\n",
        "\n",
        "\tInputWidgets.commInitializer(this);\n",
        "    }\n",
        "    Textarea.prototype = Widget;\n",
        "\n",
        "    // RadioButtons\n",
        "    // Dropdown\n",
        "    // HTML\n",
        "    // Latex\n",
        "\n",
        "    var InputWidgets = {\n",
        "\tSlider: Slider,\n",
        "\tCheckbox: Checkbox,\n",
        "\tButton: Button,\n",
        "\tText: Text,\n",
        "\tTextarea: Textarea,\n",
        "\tdebug: false,\n",
        "\tlog: function () {\n",
        "\t    if (InputWidgets.debug) {\n",
        "\t\tconsole.log.apply(console, arguments);\n",
        "\t    }\n",
        "\t},\n",
        "\t// a central way to initalize communication\n",
        "\t// for widgets.\n",
        "\tcommInitializer: function (widget) {\n",
        "\t    widget.sendUpdate = function () {};\n",
        "\t}\n",
        "    };\n",
        "\n",
        "    window.InputWidgets = InputWidgets;\n",
        "\n",
        "})(jQuery, undefined);\n",
        "</script>"
       ],
       "metadata": {},
       "output_type": "display_data"
      },
      {
       "html": [
        "<script charset=\"utf-8\">(function (IPython, $, _, MathJax, Widgets) {\n",
        "    $.event.special.destroyed = {\n",
        "\tremove: function(o) {\n",
        "\t    if (o.handler) {\n",
        "\t\to.handler.apply(this, arguments)\n",
        "\t    }\n",
        "\t}\n",
        "    }\n",
        "\n",
        "    var redrawValue = function (container, type, val) {\n",
        "\tvar selector = $(\"<div/>\");\n",
        "\tvar oa = new IPython.OutputArea(_.extend(selector, {\n",
        "\t    selector: selector,\n",
        "\t    prompt_area: true,\n",
        "\t    events: IPython.events,\n",
        "\t    keyboard_manager: IPython.keyboard_manager\n",
        "\t})); // Hack to work with IPython 2.1.0\n",
        "\n",
        "\tswitch (type) {\n",
        "\tcase \"image/png\":\n",
        "            var _src = 'data:' + type + ';base64,' + val;\n",
        "\t    $(container).find(\"img\").attr('src', _src);\n",
        "\t    break;\n",
        "\tdefault:\n",
        "\t    var toinsert = IPython.OutputArea.append_map[type].apply(\n",
        "\t\toa, [val, {}, selector]\n",
        "\t    );\n",
        "\t    $(container).empty().append(toinsert.contents());\n",
        "\t    selector.remove();\n",
        "\t}\n",
        "\tif (type === \"text/latex\" && MathJax) {\n",
        "\t    MathJax.Hub.Queue([\"Typeset\", MathJax.Hub, toinsert.get(0)]);\n",
        "\t}\n",
        "    }\n",
        "\n",
        "\n",
        "    $(document).ready(function() {\n",
        "\tWidgets.debug = false; // log messages etc in console.\n",
        "\tfunction initComm(evt, data) {\n",
        "\t    var comm_manager = data.kernel.comm_manager;\n",
        "\t    comm_manager.register_target(\"Signal\", function (comm) {\n",
        "\t\tcomm.on_msg(function (msg) {\n",
        "\t\t    //Widgets.log(\"message received\", msg);\n",
        "\t\t    var val = msg.content.data.value;\n",
        "\t\t    $(\".signal-\" + comm.comm_id).each(function() {\n",
        "\t\t\tvar type = $(this).data(\"type\");\n",
        "\t\t\tif (val[type]) {\n",
        "\t\t\t    redrawValue(this, type, val[type], type);\n",
        "\t\t\t}\n",
        "\t\t    });\n",
        "\t\t    delete val;\n",
        "\t\t    delete msg.content.data.value;\n",
        "\t\t});\n",
        "\t    });\n",
        "\n",
        "\t    // coordingate with Comm and redraw Signals\n",
        "\t    // XXX: Test using Reactive here to improve performance\n",
        "\t    $([IPython.events]).on(\n",
        "\t\t'output_appended.OutputArea', function (event, type, value, md, toinsert) {\n",
        "\t\t    if (md && md.reactive) {\n",
        "\t\t\t// console.log(md.comm_id);\n",
        "\t\t\ttoinsert.addClass(\"signal-\" + md.comm_id);\n",
        "\t\t\ttoinsert.data(\"type\", type);\n",
        "\t\t\t// Signal back indicating the mimetype required\n",
        "\t\t\tvar comm_manager = IPython.notebook.kernel.comm_manager;\n",
        "\t\t\tvar comm = comm_manager.comms[md.comm_id];\n",
        "\t\t\tcomm.send({action: \"subscribe_mime\",\n",
        "\t\t\t\t   mime: type});\n",
        "\t\t\ttoinsert.bind(\"destroyed\", function() {\n",
        "\t\t\t    comm.send({action: \"unsubscribe_mime\",\n",
        "\t\t\t\t       mime: type});\n",
        "\t\t\t});\n",
        "\t\t    }\n",
        "\t    });\n",
        "\n",
        "\t    // Set up communication for Widgets\n",
        "\t    Widgets.commInitializer = function (widget) {\n",
        "\t\tvar comm = comm_manager.new_comm(\n",
        "\t\t    \"InputWidget\", {widget_id: widget.id}\n",
        "\t\t);\n",
        "\t\twidget.sendUpdate = function () {\n",
        "\t\t    // `this` is a widget here.\n",
        "\t\t    // TODO: I have a feeling there's some\n",
        "\t\t    //       IPython bookkeeping to be done here.\n",
        "\t\t    // Widgets.log(\"State changed\", this, this.getState());\n",
        "\t\t    comm.send({value: this.getState()});\n",
        "\t\t}\n",
        "\t    };\n",
        "\t}\n",
        "\n",
        "\ttry {\n",
        "\t    // try to initialize right away. otherwise, wait on the status_started event.\n",
        "\t    initComm(undefined, IPython.notebook);\n",
        "\t} catch (e) {\n",
        "\t    $([IPython.events]).on('status_started.Kernel', initComm);\n",
        "\t}\n",
        "    });\n",
        "})(IPython, jQuery, _, MathJax, InputWidgets);\n",
        "</script>"
       ],
       "metadata": {},
       "output_type": "display_data"
      }
     ],
     "prompt_number": 2
    },
    {
     "cell_type": "code",
     "collapsed": false,
     "input": [
      "@manipulate for n in 1:10\n",
      "    rand(n,n)\n",
      "end"
     ],
     "language": "python",
     "metadata": {},
     "outputs": [
      {
       "html": [],
       "metadata": {},
       "output_type": "display_data",
       "text": [
        "Slider{Int64}([Input{Int64}] 5,\"n\",5,1:10)"
       ]
      },
      {
       "metadata": {
        "comm_id": "d64f5706-75ec-4ad2-9440-547a41c991b0",
        "reactive": true
       },
       "output_type": "pyout",
       "prompt_number": 17,
       "text": [
        "5x5 Array{Float64,2}:\n",
        " 0.0792315  0.202598  0.538515  0.853525  0.913719 \n",
        " 0.170738   0.530288  0.566791  0.78336   0.480391 \n",
        " 0.780002   0.148047  0.412029  0.377798  0.265874 \n",
        " 0.844479   0.725719  0.142271  0.152364  0.609805 \n",
        " 0.5709     0.280255  0.231221  0.853033  0.0374862"
       ]
      }
     ],
     "prompt_number": 17
    },
    {
     "cell_type": "code",
     "collapsed": false,
     "input": [
      "using Color\n",
      "@manipulate for r in 0:0.1:1, g in 0:0.1:1, b in 0:0.1:1, n in 1:50\n",
      "    linspace(RGB(0,0,0), RGB(r,g,b), n)\n",
      "end"
     ],
     "language": "python",
     "metadata": {},
     "outputs": [
      {
       "html": [],
       "metadata": {},
       "output_type": "display_data",
       "text": [
        "Slider{Float64}([Input{Float64}] 0.5,\"r\",0.5,0.0:0.1:1.0)"
       ]
      },
      {
       "html": [],
       "metadata": {},
       "output_type": "display_data",
       "text": [
        "Slider{Float64}([Input{Float64}] 0.5,\"g\",0.5,0.0:0.1:1.0)"
       ]
      },
      {
       "html": [],
       "metadata": {},
       "output_type": "display_data",
       "text": [
        "Slider{Float64}([Input{Float64}] 0.5,\"b\",0.5,0.0:0.1:1.0)"
       ]
      },
      {
       "html": [],
       "metadata": {},
       "output_type": "display_data",
       "text": [
        "Slider{Int64}([Input{Int64}] 25,\"n\",25,1:50)"
       ]
      },
      {
       "metadata": {
        "comm_id": "c724b28a-7f42-45bd-8296-3bab60ddd45d",
        "reactive": true
       },
       "output_type": "pyout",
       "prompt_number": 18,
       "svg": [
        "<?xml version=\"1.0\" encoding=\"UTF-8\"?>\n",
        "<!DOCTYPE svg PUBLIC \"-//W3C//DTD SVG 1.1//EN\"\n",
        " \"http://www.w3.org/Graphics/SVG/1.1/DTD/svg11.dtd\">\n",
        "<svg xmlns=\"http://www.w3.org/2000/svg\" version=\"1.1\"\n",
        "     width=\"125.0mm\" height=\"25.0mm\"\n",
        "     shape-rendering=\"crispEdges\">\n",
        "<rect x=\"0.0mm\" y=\"0.0mm\"\n",
        "      width=\"4.0mm\" height=\"25.0mm\"\n",
        "      fill=\"#000000\" stroke=\"none\" />\n",
        "<rect x=\"5.0mm\" y=\"0.0mm\"\n",
        "      width=\"4.0mm\" height=\"25.0mm\"\n",
        "      fill=\"#050505\" stroke=\"none\" />\n",
        "<rect x=\"10.0mm\" y=\"0.0mm\"\n",
        "      width=\"4.0mm\" height=\"25.0mm\"\n",
        "      fill=\"#0B0B0B\" stroke=\"none\" />\n",
        "<rect x=\"15.0mm\" y=\"0.0mm\"\n",
        "      width=\"4.0mm\" height=\"25.0mm\"\n",
        "      fill=\"#101010\" stroke=\"none\" />\n",
        "<rect x=\"20.0mm\" y=\"0.0mm\"\n",
        "      width=\"4.0mm\" height=\"25.0mm\"\n",
        "      fill=\"#151515\" stroke=\"none\" />\n",
        "<rect x=\"25.0mm\" y=\"0.0mm\"\n",
        "      width=\"4.0mm\" height=\"25.0mm\"\n",
        "      fill=\"#1B1B1B\" stroke=\"none\" />\n",
        "<rect x=\"30.0mm\" y=\"0.0mm\"\n",
        "      width=\"4.0mm\" height=\"25.0mm\"\n",
        "      fill=\"#202020\" stroke=\"none\" />\n",
        "<rect x=\"35.0mm\" y=\"0.0mm\"\n",
        "      width=\"4.0mm\" height=\"25.0mm\"\n",
        "      fill=\"#252525\" stroke=\"none\" />\n",
        "<rect x=\"40.0mm\" y=\"0.0mm\"\n",
        "      width=\"4.0mm\" height=\"25.0mm\"\n",
        "      fill=\"#2B2B2B\" stroke=\"none\" />\n",
        "<rect x=\"45.0mm\" y=\"0.0mm\"\n",
        "      width=\"4.0mm\" height=\"25.0mm\"\n",
        "      fill=\"#303030\" stroke=\"none\" />\n",
        "<rect x=\"50.0mm\" y=\"0.0mm\"\n",
        "      width=\"4.0mm\" height=\"25.0mm\"\n",
        "      fill=\"#353535\" stroke=\"none\" />\n",
        "<rect x=\"55.0mm\" y=\"0.0mm\"\n",
        "      width=\"4.0mm\" height=\"25.0mm\"\n",
        "      fill=\"#3A3A3A\" stroke=\"none\" />\n",
        "<rect x=\"60.0mm\" y=\"0.0mm\"\n",
        "      width=\"4.0mm\" height=\"25.0mm\"\n",
        "      fill=\"#404040\" stroke=\"none\" />\n",
        "<rect x=\"65.0mm\" y=\"0.0mm\"\n",
        "      width=\"4.0mm\" height=\"25.0mm\"\n",
        "      fill=\"#454545\" stroke=\"none\" />\n",
        "<rect x=\"70.0mm\" y=\"0.0mm\"\n",
        "      width=\"4.0mm\" height=\"25.0mm\"\n",
        "      fill=\"#4A4A4A\" stroke=\"none\" />\n",
        "<rect x=\"75.0mm\" y=\"0.0mm\"\n",
        "      width=\"4.0mm\" height=\"25.0mm\"\n",
        "      fill=\"#505050\" stroke=\"none\" />\n",
        "<rect x=\"80.0mm\" y=\"0.0mm\"\n",
        "      width=\"4.0mm\" height=\"25.0mm\"\n",
        "      fill=\"#555555\" stroke=\"none\" />\n",
        "<rect x=\"85.0mm\" y=\"0.0mm\"\n",
        "      width=\"4.0mm\" height=\"25.0mm\"\n",
        "      fill=\"#5A5A5A\" stroke=\"none\" />\n",
        "<rect x=\"90.0mm\" y=\"0.0mm\"\n",
        "      width=\"4.0mm\" height=\"25.0mm\"\n",
        "      fill=\"#606060\" stroke=\"none\" />\n",
        "<rect x=\"95.0mm\" y=\"0.0mm\"\n",
        "      width=\"4.0mm\" height=\"25.0mm\"\n",
        "      fill=\"#656565\" stroke=\"none\" />\n",
        "<rect x=\"100.0mm\" y=\"0.0mm\"\n",
        "      width=\"4.0mm\" height=\"25.0mm\"\n",
        "      fill=\"#6A6A6A\" stroke=\"none\" />\n",
        "<rect x=\"105.0mm\" y=\"0.0mm\"\n",
        "      width=\"4.0mm\" height=\"25.0mm\"\n",
        "      fill=\"#707070\" stroke=\"none\" />\n",
        "<rect x=\"110.0mm\" y=\"0.0mm\"\n",
        "      width=\"4.0mm\" height=\"25.0mm\"\n",
        "      fill=\"#757575\" stroke=\"none\" />\n",
        "<rect x=\"115.0mm\" y=\"0.0mm\"\n",
        "      width=\"4.0mm\" height=\"25.0mm\"\n",
        "      fill=\"#7A7A7A\" stroke=\"none\" />\n",
        "<rect x=\"120.0mm\" y=\"0.0mm\"\n",
        "      width=\"4.0mm\" height=\"25.0mm\"\n",
        "      fill=\"#808080\" stroke=\"none\" />\n",
        "</svg>"
       ],
       "text": [
        "25-element Array{RGB{Float64},1}:\n",
        " RGB{Float64}(0.0,0.0,0.0)                                                   \n",
        " RGB{Float64}(0.020833333333333315,0.020833333333333315,0.020833333333333315)\n",
        " RGB{Float64}(0.041666666666666685,0.041666666666666685,0.041666666666666685)\n",
        " RGB{Float64}(0.0625,0.0625,0.0625)                                          \n",
        " RGB{Float64}(0.08333333333333331,0.08333333333333331,0.08333333333333331)   \n",
        " RGB{Float64}(0.10416666666666669,0.10416666666666669,0.10416666666666669)   \n",
        " RGB{Float64}(0.125,0.125,0.125)                                             \n",
        " RGB{Float64}(0.14583333333333331,0.14583333333333331,0.14583333333333331)   \n",
        " RGB{Float64}(0.16666666666666669,0.16666666666666669,0.16666666666666669)   \n",
        " RGB{Float64}(0.1875,0.1875,0.1875)                                          \n",
        " RGB{Float64}(0.20833333333333331,0.20833333333333331,0.20833333333333331)   \n",
        " RGB{Float64}(0.22916666666666669,0.22916666666666669,0.22916666666666669)   \n",
        " RGB{Float64}(0.25,0.25,0.25)                                                \n",
        " RGB{Float64}(0.27083333333333337,0.27083333333333337,0.27083333333333337)   \n",
        " RGB{Float64}(0.29166666666666663,0.29166666666666663,0.29166666666666663)   \n",
        " RGB{Float64}(0.3125,0.3125,0.3125)                                          \n",
        " RGB{Float64}(0.33333333333333337,0.33333333333333337,0.33333333333333337)   \n",
        " RGB{Float64}(0.35416666666666663,0.35416666666666663,0.35416666666666663)   \n",
        " RGB{Float64}(0.375,0.375,0.375)                                             \n",
        " RGB{Float64}(0.3958333333333333,0.3958333333333333,0.3958333333333333)      \n",
        " RGB{Float64}(0.4166666666666667,0.4166666666666667,0.4166666666666667)      \n",
        " RGB{Float64}(0.4375,0.4375,0.4375)                                          \n",
        " RGB{Float64}(0.4583333333333333,0.4583333333333333,0.4583333333333333)      \n",
        " RGB{Float64}(0.4791666666666667,0.4791666666666667,0.4791666666666667)      \n",
        " RGB{Float64}(0.5,0.5,0.5)                                                   "
       ]
      }
     ],
     "prompt_number": 18
    },
    {
     "cell_type": "code",
     "collapsed": false,
     "input": [
      "using SymPy\n",
      "x = sym\"x\"\n",
      "@manipulate for n=0:10\n",
      "    latex(SymPy.diff(sin(x^2), x, n))\n",
      "end"
     ],
     "language": "python",
     "metadata": {},
     "outputs": [
      {
       "html": [],
       "metadata": {},
       "output_type": "display_data",
       "text": [
        "Slider{Int64}([Input{Int64}] 5,\"n\",5,0:10)"
       ]
      },
      {
       "html": [],
       "metadata": {},
       "output_type": "pyout",
       "prompt_number": 4,
       "text": [
        "Latex(\"\",\"\\$\\$8 x \\\\left(4 x^{4} \\\\cos{\\\\left (x^{2} \\\\right )} + 20 x^{2} \\\\sin{\\\\left (x^{2} \\\\right )} - 15 \\\\cos{\\\\left (x^{2} \\\\right )}\\\\right)\\$\\$\")"
       ]
      }
     ],
     "prompt_number": 4
    },
    {
     "cell_type": "markdown",
     "metadata": {},
     "source": [
      "##Acknowledgements\n",
      "\n",
      "- https://github.com/stevengj/Julia-EuroSciPy14\n",
      "- http://github.com/dpsanders/scipy_2014_julia"
     ]
    },
    {
     "cell_type": "code",
     "collapsed": false,
     "input": [],
     "language": "python",
     "metadata": {},
     "outputs": []
    }
   ],
   "metadata": {}
  }
 ]
}