{
 "metadata": {
  "language": "Julia",
  "name": "",
  "signature": "sha256:3e1c6972f980a61d6ff06291a7f4d4cd91360dc591c81800da38cc27485d93a6"
 },
 "nbformat": 3,
 "nbformat_minor": 0,
 "worksheets": [
  {
   "cells": [
    {
     "cell_type": "markdown",
     "metadata": {},
     "source": [
      "##Performance of Julia code\n",
      "\n",
      "http://julia.readthedocs.org/en/latest/manual/performance-tips/"
     ]
    },
    {
     "cell_type": "markdown",
     "metadata": {},
     "source": [
      "One of the reasons Julia is fast is that the runtime compiles and caches specialised versions of all methods."
     ]
    },
    {
     "cell_type": "code",
     "collapsed": false,
     "input": [
      "function prefix_sum(w)\n",
      "    for i=2:length(w)\n",
      "    w[i] += w[i-1]\n",
      "  end\n",
      "  return w\n",
      "end"
     ],
     "language": "python",
     "metadata": {},
     "outputs": []
    },
    {
     "cell_type": "code",
     "collapsed": false,
     "input": [
      "x = ones(1000000)\n",
      "@time prefix_sum(x)\n",
      "y = ones(1000000) + im*ones(1000000)\n",
      "@time prefix_sum(y);"
     ],
     "language": "python",
     "metadata": {},
     "outputs": []
    },
    {
     "cell_type": "markdown",
     "metadata": {},
     "source": [
      "Remarkably, we get very similar times for an array of primitive floats, versus an array of complex(sic) values."
     ]
    },
    {
     "cell_type": "markdown",
     "metadata": {},
     "source": [
      "###Type Stable\n",
      " For this to work, Julia code must be type stable. \n"
     ]
    },
    {
     "cell_type": "markdown",
     "metadata": {},
     "source": [
      "#### Return type of a method must only depend on the types of its parameters, not their values"
     ]
    },
    {
     "cell_type": "code",
     "collapsed": false,
     "input": [
      "sqrt(-1)"
     ],
     "language": "python",
     "metadata": {},
     "outputs": []
    },
    {
     "cell_type": "code",
     "collapsed": false,
     "input": [
      "sqrt(-1 - 0im)"
     ],
     "language": "python",
     "metadata": {},
     "outputs": []
    },
    {
     "cell_type": "markdown",
     "metadata": {},
     "source": [
      "This is also partly why Julia does not automatically promote to BigNum on overflow"
     ]
    },
    {
     "cell_type": "markdown",
     "metadata": {},
     "source": [
      "####Variables in inner loops must not change types"
     ]
    },
    {
     "cell_type": "code",
     "collapsed": false,
     "input": [
      "function sum1(N)\n",
      "    total = 0\n",
      "    \n",
      "    for i in 1:N\n",
      "        total += i/2\n",
      "    end\n",
      "    \n",
      "    total\n",
      "end\n",
      "\n",
      "function sum2(N)\n",
      "    total = 0.0\n",
      "    \n",
      "    for i in 1:N\n",
      "        total += i/2\n",
      "    end\n",
      "    \n",
      "    total\n",
      "end"
     ],
     "language": "python",
     "metadata": {},
     "outputs": []
    },
    {
     "cell_type": "code",
     "collapsed": false,
     "input": [
      "sum1(100), sum2(100)"
     ],
     "language": "python",
     "metadata": {},
     "outputs": []
    },
    {
     "cell_type": "code",
     "collapsed": false,
     "input": [
      "@time sum1(10000000)\n",
      "@time sum2(10000000)"
     ],
     "language": "python",
     "metadata": {},
     "outputs": []
    },
    {
     "cell_type": "code",
     "collapsed": false,
     "input": [
      "code_llvm(sum1, (Int,))"
     ],
     "language": "python",
     "metadata": {},
     "outputs": []
    },
    {
     "cell_type": "code",
     "collapsed": false,
     "input": [
      "code_llvm(sum2, (Int,))"
     ],
     "language": "python",
     "metadata": {},
     "outputs": []
    },
    {
     "cell_type": "markdown",
     "metadata": {},
     "source": [
      "####No Global variables\n",
      "Global variables are very slow in Julia, since the compiler cannot guarantee at any point that the value of such a variable does not change. Try to move all variables to function scope. Anything that absolutely must be global should be declared _const_"
     ]
    },
    {
     "cell_type": "markdown",
     "metadata": {},
     "source": [
      "## Calling C libraries from Julia\n",
      "Julia has a zero overhead ability to call any C library, using the _ccall_ function. "
     ]
    },
    {
     "cell_type": "code",
     "collapsed": false,
     "input": [
      "t=ccall( (:clock, \"libc\"), Cint, ())"
     ],
     "language": "python",
     "metadata": {},
     "outputs": []
    },
    {
     "cell_type": "markdown",
     "metadata": {},
     "source": [
      "- Tuple of function name, library name\n",
      "- Type of return value\n",
      "- Tuple of types of function parameters\n",
      "- Function parameter values"
     ]
    },
    {
     "cell_type": "code",
     "collapsed": false,
     "input": [
      "ccall(:printf, Cint, (Ptr{Uint8},), \"Hello, world!\")"
     ],
     "language": "python",
     "metadata": {},
     "outputs": []
    },
    {
     "cell_type": "code",
     "collapsed": false,
     "input": [
      "csin(x) = ccall((:sin,\"libm\"), Cdouble, (Cdouble,), x)"
     ],
     "language": "python",
     "metadata": {},
     "outputs": []
    },
    {
     "cell_type": "code",
     "collapsed": false,
     "input": [
      "csin(3)"
     ],
     "language": "python",
     "metadata": {},
     "outputs": []
    },
    {
     "cell_type": "code",
     "collapsed": false,
     "input": [
      "sin(3) - csin(3)"
     ],
     "language": "python",
     "metadata": {},
     "outputs": []
    },
    {
     "cell_type": "markdown",
     "metadata": {},
     "source": [
      "##Calling Python Programs from Julia\n",
      "\n",
      "Thanks to the PyCall package, arbitrary python functions can be called using CPython's C API\n",
      "\n",
      "https://github.com/stevengj/PyCall.jl"
     ]
    },
    {
     "cell_type": "code",
     "collapsed": false,
     "input": [
      "using PyCall\n",
      "@pyimport math as pymath"
     ],
     "language": "python",
     "metadata": {},
     "outputs": []
    },
    {
     "cell_type": "code",
     "collapsed": false,
     "input": [
      "pymath.sin(3)"
     ],
     "language": "python",
     "metadata": {},
     "outputs": []
    },
    {
     "cell_type": "code",
     "collapsed": false,
     "input": [
      "sin(3) - pymath.sin(3)"
     ],
     "language": "python",
     "metadata": {},
     "outputs": []
    },
    {
     "cell_type": "markdown",
     "metadata": {},
     "source": [
      "Arrays sent to python are copy free. Return arrays are copied. "
     ]
    },
    {
     "cell_type": "code",
     "collapsed": false,
     "input": [
      "@pyimport numpy as np\n",
      "x = [-100, 39, 59, 55, 20]\n",
      "np.irr(x)"
     ],
     "language": "python",
     "metadata": {},
     "outputs": []
    },
    {
     "cell_type": "markdown",
     "metadata": {},
     "source": [
      "####Passing Julia functions to python\n",
      "Useful for optimisation, root finding etc. "
     ]
    },
    {
     "cell_type": "code",
     "collapsed": false,
     "input": [
      "@pyimport scipy.optimize as so\n",
      "function f(x)\n",
      "    println(\"Julia function called with $x\")\n",
      "    cos(x) - x\n",
      "end\n",
      "so.newton(f, 1.2)"
     ],
     "language": "python",
     "metadata": {},
     "outputs": []
    },
    {
     "cell_type": "markdown",
     "metadata": {},
     "source": [
      "Similary, there is JavaCall.jl, that allows calling Java programs from Julia, and a forthcoming RubyCall.jl"
     ]
    },
    {
     "cell_type": "markdown",
     "metadata": {},
     "source": [
      "##Interactive widgets\n",
      "\n",
      "Using a functional reactive framework, Interact.jl allows creation of interactive widgets in IJulia"
     ]
    },
    {
     "cell_type": "code",
     "collapsed": false,
     "input": [
      "using Interact"
     ],
     "language": "python",
     "metadata": {},
     "outputs": []
    },
    {
     "cell_type": "code",
     "collapsed": false,
     "input": [
      "@manipulate for n in 1:10\n",
      "    rand(n,n)\n",
      "end"
     ],
     "language": "python",
     "metadata": {},
     "outputs": []
    },
    {
     "cell_type": "code",
     "collapsed": false,
     "input": [
      "using Color\n",
      "@manipulate for r in 0:0.1:1, g in 0:0.1:1, b in 0:0.1:1, n in 1:50\n",
      "    linspace(RGB(0,0,0), RGB(r,g,b), n)\n",
      "end"
     ],
     "language": "python",
     "metadata": {},
     "outputs": []
    },
    {
     "cell_type": "code",
     "collapsed": false,
     "input": [
      "using SymPy\n",
      "x = sym\"x\"\n",
      "@manipulate for n=0:10\n",
      "    latex(SymPy.diff(sin(x^2), x, n))\n",
      "end"
     ],
     "language": "python",
     "metadata": {},
     "outputs": []
    },
    {
     "cell_type": "markdown",
     "metadata": {},
     "source": [
      "##Acknowledgements\n",
      "\n",
      "- https://github.com/stevengj/Julia-EuroSciPy14\n",
      "- http://github.com/dpsanders/scipy_2014_julia\n",
      "- http://arxiv.org/abs/1411.1607"
     ]
    },
    {
     "cell_type": "code",
     "collapsed": false,
     "input": [],
     "language": "python",
     "metadata": {},
     "outputs": []
    }
   ],
   "metadata": {}
  }
 ]
}