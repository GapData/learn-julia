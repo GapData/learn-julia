{
 "metadata": {
  "language": "Julia",
  "name": "",
  "signature": "sha256:afb46195f954c8c0ff83ce124a5672cd5627cd20615ff4e8f1d73db960916f28"
 },
 "nbformat": 3,
 "nbformat_minor": 0,
 "worksheets": [
  {
   "cells": [
    {
     "cell_type": "markdown",
     "metadata": {},
     "source": [
      "##Performance of Julia code\n",
      "\n",
      "http://julia.readthedocs.org/en/latest/manual/performance-tips/"
     ]
    },
    {
     "cell_type": "markdown",
     "metadata": {},
     "source": [
      "One of the reasons Julia is fast is that the runtime compiles and caches specialised versions of all methods."
     ]
    },
    {
     "cell_type": "code",
     "collapsed": false,
     "input": [
      "function prefix_sum(w)\n",
      "    for i=2:length(w)\n",
      "    w[i] += w[i-1]\n",
      "  end\n",
      "  return w\n",
      "end"
     ],
     "language": "python",
     "metadata": {},
     "outputs": [
      {
       "metadata": {},
       "output_type": "pyout",
       "prompt_number": 53,
       "text": [
        "prefix_sum (generic function with 1 method)"
       ]
      }
     ],
     "prompt_number": 53
    },
    {
     "cell_type": "code",
     "collapsed": false,
     "input": [
      "x = ones(1000000)\n",
      "@time prefix_sum(x)\n",
      "y = ones(1000000) + im*ones(1000000)\n",
      "@time prefix_sum(y);"
     ],
     "language": "python",
     "metadata": {},
     "outputs": [
      {
       "output_type": "stream",
       "stream": "stdout",
       "text": [
        "elapsed time: 0."
       ]
      },
      {
       "output_type": "stream",
       "stream": "stdout",
       "text": [
        "003911471 seconds (80 bytes allocated)\n",
        "elapsed time: 0.00496724 seconds (80 bytes allocated)\n"
       ]
      }
     ],
     "prompt_number": 55
    },
    {
     "cell_type": "markdown",
     "metadata": {},
     "source": [
      "Remarkably, we get very similar times for an array of primitive floats, versus an array of complex(sic) values."
     ]
    },
    {
     "cell_type": "code",
     "collapsed": false,
     "input": [
      "code_native(+, (Complex{Int64}, Complex{Int64}))"
     ],
     "language": "python",
     "metadata": {},
     "outputs": [
      {
       "output_type": "stream",
       "stream": "stdout",
       "text": [
        "\t.section\t__TEXT,__text,regular,pure_instructions\n",
        "Filename: complex.jl\n",
        "Source line: 110\n",
        "\tpush\tRBP\n",
        "\tmov\tRBP, RSP\n",
        "Source line: 110\n",
        "\tadd\tRDI, RDX\n",
        "\tadd\tRSI, RCX\n",
        "\tmov\tRAX, RDI\n",
        "\tmov\tRDX, RSI\n",
        "\tpop\tRBP\n",
        "\tret\n"
       ]
      }
     ],
     "prompt_number": 30
    },
    {
     "cell_type": "markdown",
     "metadata": {},
     "source": [
      "###Type Stable\n",
      " For this to work, Julia code must be type stable. \n"
     ]
    },
    {
     "cell_type": "markdown",
     "metadata": {},
     "source": [
      "#### Return type of a method must only depend on the types of its parameters, not their values"
     ]
    },
    {
     "cell_type": "code",
     "collapsed": false,
     "input": [
      "sqrt(-1)"
     ],
     "language": "python",
     "metadata": {},
     "outputs": [
      {
       "ename": "LoadError",
       "evalue": "DomainError\nwhile loading In[31], in expression starting on line 1",
       "output_type": "pyerr",
       "traceback": [
        "DomainError\nwhile loading In[31], in expression starting on line 1",
        "",
        " in sqrt at math.jl:131"
       ]
      }
     ],
     "prompt_number": 31
    },
    {
     "cell_type": "code",
     "collapsed": false,
     "input": [
      "sqrt(-1 + 0im)"
     ],
     "language": "python",
     "metadata": {},
     "outputs": [
      {
       "metadata": {},
       "output_type": "pyout",
       "prompt_number": 32,
       "text": [
        "0.0 + 1.0im"
       ]
      }
     ],
     "prompt_number": 32
    },
    {
     "cell_type": "markdown",
     "metadata": {},
     "source": [
      "This is also partly why Julia does not automatically promote to BigNum on overflow"
     ]
    },
    {
     "cell_type": "markdown",
     "metadata": {},
     "source": [
      "####Variables in inner loops must not change types"
     ]
    },
    {
     "cell_type": "code",
     "collapsed": false,
     "input": [
      "function sum1(N)\n",
      "    total = 0\n",
      "    \n",
      "    for i in 1:N\n",
      "        total += i/2\n",
      "    end\n",
      "    \n",
      "    total\n",
      "end\n",
      "\n",
      "function sum2(N)\n",
      "    total = 0.0\n",
      "    \n",
      "    for i in 1:N\n",
      "        total += i/2\n",
      "    end\n",
      "    \n",
      "    total\n",
      "end"
     ],
     "language": "python",
     "metadata": {},
     "outputs": [
      {
       "metadata": {},
       "output_type": "pyout",
       "prompt_number": 33,
       "text": [
        "sum2 (generic function with 1 method)"
       ]
      }
     ],
     "prompt_number": 33
    },
    {
     "cell_type": "code",
     "collapsed": false,
     "input": [
      "sum1(100), sum2(100)"
     ],
     "language": "python",
     "metadata": {},
     "outputs": [
      {
       "metadata": {},
       "output_type": "pyout",
       "prompt_number": 34,
       "text": [
        "(2525.0,2525.0)"
       ]
      }
     ],
     "prompt_number": 34
    },
    {
     "cell_type": "code",
     "collapsed": false,
     "input": [
      "@time sum1(10000000)\n",
      "@time sum2(10000000)"
     ],
     "language": "python",
     "metadata": {},
     "outputs": [
      {
       "output_type": "stream",
       "stream": "stdout",
       "text": [
        "elapsed time: "
       ]
      },
      {
       "output_type": "stream",
       "stream": "stdout",
       "text": [
        "0.955197429 seconds (320000080 bytes allocated, 44.74% gc time)\n",
        "elapsed time: 0.04012344 seconds (96 bytes allocated)\n"
       ]
      },
      {
       "metadata": {},
       "output_type": "pyout",
       "prompt_number": 35,
       "text": [
        "2.50000025e13"
       ]
      }
     ],
     "prompt_number": 35
    },
    {
     "cell_type": "code",
     "collapsed": false,
     "input": [
      "code_llvm(sum1, (Int,))"
     ],
     "language": "python",
     "metadata": {},
     "outputs": [
      {
       "output_type": "stream",
       "stream": "stdout",
       "text": [
        "\n",
        "define %jl_value_t* @julia_sum1_22395(i64) {\n",
        "top:\n",
        "  %1 = alloca [5 x %jl_value_t*], align 8\n",
        "  %.sub = getelementptr inbounds [5 x %jl_value_t*]* %1, i64 0, i64 0\n",
        "  %2 = getelementptr [5 x %jl_value_t*]* %1, i64 0, i64 2, !dbg !7780\n",
        "  store %jl_value_t* inttoptr (i64 6 to %jl_value_t*), %jl_value_t** %.sub, align 8\n",
        "  %3 = load %jl_value_t*** @jl_pgcstack, align 8, !dbg !7780\n",
        "  %4 = getelementptr [5 x %jl_value_t*]* %1, i64 0, i64 1, !dbg !7780\n",
        "  %.c = bitcast %jl_value_t** %3 to %jl_value_t*, !dbg !7780\n",
        "  store %jl_value_t* %.c, %jl_value_t** %4, align 8, !dbg !7780\n",
        "  store %jl_value_t** %.sub, %jl_value_t*** @jl_pgcstack, align 8, !dbg !7780\n",
        "  %5 = getelementptr [5 x %jl_value_t*]* %1, i64 0, i64 3\n",
        "  store %jl_value_t* null, %jl_value_t** %5, align 8\n",
        "  %6 = getelementptr [5 x %jl_value_t*]* %1, i64 0, i64 4\n",
        "  store %jl_value_t* null, %jl_value_t** %6, align 8\n",
        "  store %jl_value_t* inttoptr (i64 140671537323584 to %jl_value_t*), %jl_value_t** %2, align 8, !dbg !7781\n",
        "  %7 = icmp sgt i64 %0, 0, !dbg !7782\n",
        "  br i1 %7, label %L, label %L3, !dbg !7782\n",
        "\n",
        "L:                                                ; preds = %top, %L\n",
        "  %8 = phi %jl_value_t* [ %16, %L ], [ inttoptr (i64 140671537323584 to %jl_value_t*), %top ], !dbg !7782\n",
        "  %\"#s237.0\" = phi i64 [ %9, %L ], [ 1, %top ]\n",
        "  %9 = add i64 %\"#s237.0\", 1, !dbg !7782\n",
        "  store %jl_value_t* %8, %jl_value_t** %5, align 8, !dbg !7783\n",
        "  %10 = sitofp i64 %\"#s237.0\" to double, !dbg !7783\n",
        "  %11 = fmul double %10, 5.000000e-01, !dbg !7783\n",
        "  %12 = call %jl_value_t* @alloc_2w(), !dbg !7783\n",
        "  %13 = getelementptr inbounds %jl_value_t* %12, i64 0, i32 0, !dbg !7783\n",
        "  store %jl_value_t* inttoptr (i64 140671537250576 to %jl_value_t*), %jl_value_t** %13, align 8, !dbg !7783\n",
        "  %14 = getelementptr inbounds %jl_value_t* %12, i64 1, i32 0, !dbg !7783\n",
        "  %15 = bitcast %jl_value_t** %14 to double*, !dbg !7783\n",
        "  store double %11, double* %15, align 8, !dbg !7783\n",
        "  store %jl_value_t* %12, %jl_value_t** %6, align 8, !dbg !7783\n",
        "  %16 = call %jl_value_t* @jl_apply_generic(%jl_value_t* inttoptr (i64 140671559565120 to %jl_value_t*), %jl_value_t** %5, i32 2), !dbg !7783\n",
        "  store %jl_value_t* %16, %jl_value_t** %2, align 8, !dbg !7783\n",
        "  %17 = icmp eq i64 %\"#s237.0\", %0, !dbg !7783\n",
        "  br i1 %17, label %L3, label %L, !dbg !7783\n",
        "\n",
        "L3:                                               ; preds = %L, %top\n",
        "  %18 = phi %jl_value_t* [ inttoptr (i64 140671537323584 to %jl_value_t*), %top ], [ %16, %L ]\n",
        "  %19 = load %jl_value_t** %4, align 8, !dbg !7784\n",
        "  %20 = getelementptr inbounds %jl_value_t* %19, i64 0, i32 0, !dbg !7784\n",
        "  store %jl_value_t** %20, %jl_value_t*** @jl_pgcstack, align 8, !dbg !7784\n",
        "  ret %jl_value_t* %18, !dbg !7784\n",
        "}\n"
       ]
      }
     ],
     "prompt_number": 36
    },
    {
     "cell_type": "code",
     "collapsed": false,
     "input": [
      "code_llvm(sum2, (Int,))"
     ],
     "language": "python",
     "metadata": {},
     "outputs": [
      {
       "output_type": "stream",
       "stream": "stdout",
       "text": [
        "\n",
        "define double @julia_sum2_22396(i64) {\n",
        "top:\n",
        "  %1 = icmp sgt i64 %0, 0, !dbg !7783\n",
        "  br i1 %1, label %L, label %L3, !dbg !7783\n",
        "\n",
        "L:                                                ; preds = %top, %L\n",
        "  %total.0 = phi double [ %5, %L ], [ 0.000000e+00, %top ]\n",
        "  %\"#s237.0\" = phi i64 [ %2, %L ], [ 1, %top ]\n",
        "  %2 = add i64 %\"#s237.0\", 1, !dbg !7783\n",
        "  %3 = sitofp i64 %\"#s237.0\" to double, !dbg !7784\n",
        "  %4 = fmul double %3, 5.000000e-01, !dbg !7784\n",
        "  %5 = fadd double %total.0, %4, !dbg !7784\n",
        "  %6 = icmp eq i64 %\"#s237.0\", %0, !dbg !7784\n",
        "  br i1 %6, label %L3, label %L, !dbg !7784\n",
        "\n",
        "L3:                                               ; preds = %L, %top\n",
        "  %total.1 = phi double [ 0.000000e+00, %top ], [ %5, %L ]\n",
        "  ret double %total.1, !dbg !7785\n",
        "}\n"
       ]
      }
     ],
     "prompt_number": 37
    },
    {
     "cell_type": "markdown",
     "metadata": {},
     "source": [
      "####No Global variables\n",
      "Global variables are very slow in Julia, since the compiler cannot guarantee at any point that the value of such a variable does not change. Try to move all variables to function scope. Anything that absolutely must be global should be declared _const_"
     ]
    },
    {
     "cell_type": "markdown",
     "metadata": {},
     "source": [
      "## Calling C libraries from Julia\n",
      "Julia has a zero overhead ability to call any C library, using the _ccall_ function. "
     ]
    },
    {
     "cell_type": "code",
     "collapsed": false,
     "input": [
      "t=ccall( (:clock, \"libc\"), Cint, ())"
     ],
     "language": "python",
     "metadata": {},
     "outputs": [
      {
       "metadata": {},
       "output_type": "pyout",
       "prompt_number": 38,
       "text": [
        "35521476"
       ]
      }
     ],
     "prompt_number": 38
    },
    {
     "cell_type": "markdown",
     "metadata": {},
     "source": [
      "- Tuple of function name, library name\n",
      "- Type of return value\n",
      "- Tuple of types of function parameters\n",
      "- Function parameter values"
     ]
    },
    {
     "cell_type": "code",
     "collapsed": false,
     "input": [
      "ccall(:printf, Cint, (Ptr{Uint8},), \"Hello, world!\")"
     ],
     "language": "python",
     "metadata": {},
     "outputs": [
      {
       "output_type": "stream",
       "stream": "stdout",
       "text": [
        "Hello, world!"
       ]
      },
      {
       "metadata": {},
       "output_type": "pyout",
       "prompt_number": 39,
       "text": [
        "13"
       ]
      }
     ],
     "prompt_number": 39
    },
    {
     "cell_type": "code",
     "collapsed": false,
     "input": [
      "csin(x) = ccall((:sin,\"libm\"), Cdouble, (Cdouble,), x)"
     ],
     "language": "python",
     "metadata": {},
     "outputs": [
      {
       "metadata": {},
       "output_type": "pyout",
       "prompt_number": 40,
       "text": [
        "csin (generic function with 1 method)"
       ]
      }
     ],
     "prompt_number": 40
    },
    {
     "cell_type": "code",
     "collapsed": false,
     "input": [
      "csin(3)"
     ],
     "language": "python",
     "metadata": {},
     "outputs": [
      {
       "metadata": {},
       "output_type": "pyout",
       "prompt_number": 41,
       "text": [
        "0.1411200080598672"
       ]
      }
     ],
     "prompt_number": 41
    },
    {
     "cell_type": "code",
     "collapsed": false,
     "input": [
      "sin(3) - csin(3)"
     ],
     "language": "python",
     "metadata": {},
     "outputs": [
      {
       "metadata": {},
       "output_type": "pyout",
       "prompt_number": 42,
       "text": [
        "0.0"
       ]
      }
     ],
     "prompt_number": 42
    },
    {
     "cell_type": "markdown",
     "metadata": {},
     "source": [
      "##Calling Python Programs from Julia\n",
      "\n",
      "Thanks to the PyCall package, arbitrary python functions can be called using CPython's C API\n",
      "\n",
      "https://github.com/stevengj/PyCall.jl"
     ]
    },
    {
     "cell_type": "code",
     "collapsed": false,
     "input": [
      "using PyCall\n",
      "@pyimport math as pymath"
     ],
     "language": "python",
     "metadata": {},
     "outputs": [],
     "prompt_number": 43
    },
    {
     "cell_type": "code",
     "collapsed": false,
     "input": [
      "pymath.sin(3)"
     ],
     "language": "python",
     "metadata": {},
     "outputs": [
      {
       "metadata": {},
       "output_type": "pyout",
       "prompt_number": 44,
       "text": [
        "0.1411200080598672"
       ]
      }
     ],
     "prompt_number": 44
    },
    {
     "cell_type": "code",
     "collapsed": false,
     "input": [
      "sin(3) - pymath.sin(3)"
     ],
     "language": "python",
     "metadata": {},
     "outputs": [
      {
       "metadata": {},
       "output_type": "pyout",
       "prompt_number": 45,
       "text": [
        "0.0"
       ]
      }
     ],
     "prompt_number": 45
    },
    {
     "cell_type": "markdown",
     "metadata": {},
     "source": [
      "Arrays sent to python are copy free. Return arrays are copied. "
     ]
    },
    {
     "cell_type": "code",
     "collapsed": false,
     "input": [
      "@pyimport numpy as np\n",
      "x = [-100, 39, 59, 55, 20]\n",
      "np.irr(x)"
     ],
     "language": "python",
     "metadata": {},
     "outputs": [
      {
       "metadata": {},
       "output_type": "pyout",
       "prompt_number": 46,
       "text": [
        "0.2809484211599609"
       ]
      }
     ],
     "prompt_number": 46
    },
    {
     "cell_type": "markdown",
     "metadata": {},
     "source": [
      "####Passing Julia functions to python\n",
      "Useful for optimisation, root finding etc. "
     ]
    },
    {
     "cell_type": "code",
     "collapsed": false,
     "input": [
      "@pyimport scipy.optimize as so\n",
      "function f(x)\n",
      "    println(\"Julia function called with $x\")\n",
      "    cos(x) - x\n",
      "end\n",
      "so.newton(f, 1.2)"
     ],
     "language": "python",
     "metadata": {},
     "outputs": [
      {
       "output_type": "stream",
       "stream": "stdout",
       "text": [
        "Julia function called with 1.2\n"
       ]
      },
      {
       "output_type": "stream",
       "stream": "stdout",
       "text": [
        "Julia function called with 1.2002199999999998\n",
        "Julia function called with 0.7664554749111869\n",
        "Julia function called with 0.7412167885608414\n",
        "Julia function called with 0.7390978176492645\n",
        "Julia function called with 0.7390851391787693\n"
       ]
      },
      {
       "metadata": {},
       "output_type": "pyout",
       "prompt_number": 47,
       "text": [
        "0.7390851332151773"
       ]
      }
     ],
     "prompt_number": 47
    },
    {
     "cell_type": "markdown",
     "metadata": {},
     "source": [
      "Similary, there is JavaCall.jl, that allows calling Java programs from Julia, and a forthcoming RubyCall.jl"
     ]
    },
    {
     "cell_type": "markdown",
     "metadata": {},
     "source": [
      "##Interactive widgets\n",
      "\n",
      "Using a functional reactive framework, Interact.jl allows creation of interactive widgets in IJulia"
     ]
    },
    {
     "cell_type": "code",
     "collapsed": false,
     "input": [
      "using Interact"
     ],
     "language": "python",
     "metadata": {},
     "outputs": [],
     "prompt_number": 48
    },
    {
     "cell_type": "code",
     "collapsed": false,
     "input": [
      "@manipulate for n in 1:10\n",
      "    rand(n,n)\n",
      "end"
     ],
     "language": "python",
     "metadata": {},
     "outputs": [
      {
       "html": [],
       "metadata": {},
       "output_type": "display_data",
       "text": [
        "Slider{Int64}([Input{Int64}] 5,\"n\",5,1:10)"
       ]
      },
      {
       "metadata": {
        "comm_id": "8f656e72-174b-4155-acb9-35c491714ca1",
        "reactive": true
       },
       "output_type": "pyout",
       "prompt_number": 49,
       "text": [
        "5x5 Array{Float64,2}:\n",
        " 0.312192  0.661945  0.794238  0.0409841  0.339624\n",
        " 0.184042  0.562061  0.65663   0.735989   0.138815\n",
        " 0.169089  0.259701  0.537516  0.692569   0.229201\n",
        " 0.203451  0.820103  0.977622  0.24926    0.385863\n",
        " 0.303323  0.75052   0.693575  0.120508   0.751001"
       ]
      }
     ],
     "prompt_number": 49
    },
    {
     "cell_type": "code",
     "collapsed": false,
     "input": [
      "using Color\n",
      "@manipulate for r in 0:0.1:1, g in 0:0.1:1, b in 0:0.1:1, n in 1:50\n",
      "    linspace(RGB(0,0,0), RGB(r,g,b), n)\n",
      "end"
     ],
     "language": "python",
     "metadata": {},
     "outputs": [
      {
       "html": [],
       "metadata": {},
       "output_type": "display_data",
       "text": [
        "Slider{Float64}([Input{Float64}] 0.5,\"r\",0.5,0.0:0.1:1.0)"
       ]
      },
      {
       "html": [],
       "metadata": {},
       "output_type": "display_data",
       "text": [
        "Slider{Float64}([Input{Float64}] 0.5,\"g\",0.5,0.0:0.1:1.0)"
       ]
      },
      {
       "html": [],
       "metadata": {},
       "output_type": "display_data",
       "text": [
        "Slider{Float64}([Input{Float64}] 0.5,\"b\",0.5,0.0:0.1:1.0)"
       ]
      },
      {
       "html": [],
       "metadata": {},
       "output_type": "display_data",
       "text": [
        "Slider{Int64}([Input{Int64}] 25,\"n\",25,1:50)"
       ]
      },
      {
       "metadata": {
        "comm_id": "6e0eca7b-1f3a-4b4e-a751-35cec713fbde",
        "reactive": true
       },
       "output_type": "pyout",
       "prompt_number": 50,
       "svg": [
        "<?xml version=\"1.0\" encoding=\"UTF-8\"?>\n",
        "<!DOCTYPE svg PUBLIC \"-//W3C//DTD SVG 1.1//EN\"\n",
        " \"http://www.w3.org/Graphics/SVG/1.1/DTD/svg11.dtd\">\n",
        "<svg xmlns=\"http://www.w3.org/2000/svg\" version=\"1.1\"\n",
        "     width=\"125.0mm\" height=\"25.0mm\"\n",
        "     shape-rendering=\"crispEdges\">\n",
        "<rect x=\"0.0mm\" y=\"0.0mm\"\n",
        "      width=\"4.0mm\" height=\"25.0mm\"\n",
        "      fill=\"#000000\" stroke=\"none\" />\n",
        "<rect x=\"5.0mm\" y=\"0.0mm\"\n",
        "      width=\"4.0mm\" height=\"25.0mm\"\n",
        "      fill=\"#050505\" stroke=\"none\" />\n",
        "<rect x=\"10.0mm\" y=\"0.0mm\"\n",
        "      width=\"4.0mm\" height=\"25.0mm\"\n",
        "      fill=\"#0B0B0B\" stroke=\"none\" />\n",
        "<rect x=\"15.0mm\" y=\"0.0mm\"\n",
        "      width=\"4.0mm\" height=\"25.0mm\"\n",
        "      fill=\"#101010\" stroke=\"none\" />\n",
        "<rect x=\"20.0mm\" y=\"0.0mm\"\n",
        "      width=\"4.0mm\" height=\"25.0mm\"\n",
        "      fill=\"#151515\" stroke=\"none\" />\n",
        "<rect x=\"25.0mm\" y=\"0.0mm\"\n",
        "      width=\"4.0mm\" height=\"25.0mm\"\n",
        "      fill=\"#1B1B1B\" stroke=\"none\" />\n",
        "<rect x=\"30.0mm\" y=\"0.0mm\"\n",
        "      width=\"4.0mm\" height=\"25.0mm\"\n",
        "      fill=\"#202020\" stroke=\"none\" />\n",
        "<rect x=\"35.0mm\" y=\"0.0mm\"\n",
        "      width=\"4.0mm\" height=\"25.0mm\"\n",
        "      fill=\"#252525\" stroke=\"none\" />\n",
        "<rect x=\"40.0mm\" y=\"0.0mm\"\n",
        "      width=\"4.0mm\" height=\"25.0mm\"\n",
        "      fill=\"#2B2B2B\" stroke=\"none\" />\n",
        "<rect x=\"45.0mm\" y=\"0.0mm\"\n",
        "      width=\"4.0mm\" height=\"25.0mm\"\n",
        "      fill=\"#303030\" stroke=\"none\" />\n",
        "<rect x=\"50.0mm\" y=\"0.0mm\"\n",
        "      width=\"4.0mm\" height=\"25.0mm\"\n",
        "      fill=\"#353535\" stroke=\"none\" />\n",
        "<rect x=\"55.0mm\" y=\"0.0mm\"\n",
        "      width=\"4.0mm\" height=\"25.0mm\"\n",
        "      fill=\"#3A3A3A\" stroke=\"none\" />\n",
        "<rect x=\"60.0mm\" y=\"0.0mm\"\n",
        "      width=\"4.0mm\" height=\"25.0mm\"\n",
        "      fill=\"#404040\" stroke=\"none\" />\n",
        "<rect x=\"65.0mm\" y=\"0.0mm\"\n",
        "      width=\"4.0mm\" height=\"25.0mm\"\n",
        "      fill=\"#454545\" stroke=\"none\" />\n",
        "<rect x=\"70.0mm\" y=\"0.0mm\"\n",
        "      width=\"4.0mm\" height=\"25.0mm\"\n",
        "      fill=\"#4A4A4A\" stroke=\"none\" />\n",
        "<rect x=\"75.0mm\" y=\"0.0mm\"\n",
        "      width=\"4.0mm\" height=\"25.0mm\"\n",
        "      fill=\"#505050\" stroke=\"none\" />\n",
        "<rect x=\"80.0mm\" y=\"0.0mm\"\n",
        "      width=\"4.0mm\" height=\"25.0mm\"\n",
        "      fill=\"#555555\" stroke=\"none\" />\n",
        "<rect x=\"85.0mm\" y=\"0.0mm\"\n",
        "      width=\"4.0mm\" height=\"25.0mm\"\n",
        "      fill=\"#5A5A5A\" stroke=\"none\" />\n",
        "<rect x=\"90.0mm\" y=\"0.0mm\"\n",
        "      width=\"4.0mm\" height=\"25.0mm\"\n",
        "      fill=\"#606060\" stroke=\"none\" />\n",
        "<rect x=\"95.0mm\" y=\"0.0mm\"\n",
        "      width=\"4.0mm\" height=\"25.0mm\"\n",
        "      fill=\"#656565\" stroke=\"none\" />\n",
        "<rect x=\"100.0mm\" y=\"0.0mm\"\n",
        "      width=\"4.0mm\" height=\"25.0mm\"\n",
        "      fill=\"#6A6A6A\" stroke=\"none\" />\n",
        "<rect x=\"105.0mm\" y=\"0.0mm\"\n",
        "      width=\"4.0mm\" height=\"25.0mm\"\n",
        "      fill=\"#707070\" stroke=\"none\" />\n",
        "<rect x=\"110.0mm\" y=\"0.0mm\"\n",
        "      width=\"4.0mm\" height=\"25.0mm\"\n",
        "      fill=\"#757575\" stroke=\"none\" />\n",
        "<rect x=\"115.0mm\" y=\"0.0mm\"\n",
        "      width=\"4.0mm\" height=\"25.0mm\"\n",
        "      fill=\"#7A7A7A\" stroke=\"none\" />\n",
        "<rect x=\"120.0mm\" y=\"0.0mm\"\n",
        "      width=\"4.0mm\" height=\"25.0mm\"\n",
        "      fill=\"#808080\" stroke=\"none\" />\n",
        "</svg>"
       ],
       "text": [
        "25-element Array{RGB{Float64},1}:\n",
        " RGB{Float64}(0.0,0.0,0.0)                                                   \n",
        " RGB{Float64}(0.020833333333333315,0.020833333333333315,0.020833333333333315)\n",
        " RGB{Float64}(0.041666666666666685,0.041666666666666685,0.041666666666666685)\n",
        " RGB{Float64}(0.0625,0.0625,0.0625)                                          \n",
        " RGB{Float64}(0.08333333333333331,0.08333333333333331,0.08333333333333331)   \n",
        " RGB{Float64}(0.10416666666666669,0.10416666666666669,0.10416666666666669)   \n",
        " RGB{Float64}(0.125,0.125,0.125)                                             \n",
        " RGB{Float64}(0.14583333333333331,0.14583333333333331,0.14583333333333331)   \n",
        " RGB{Float64}(0.16666666666666669,0.16666666666666669,0.16666666666666669)   \n",
        " RGB{Float64}(0.1875,0.1875,0.1875)                                          \n",
        " RGB{Float64}(0.20833333333333331,0.20833333333333331,0.20833333333333331)   \n",
        " RGB{Float64}(0.22916666666666669,0.22916666666666669,0.22916666666666669)   \n",
        " RGB{Float64}(0.25,0.25,0.25)                                                \n",
        " RGB{Float64}(0.27083333333333337,0.27083333333333337,0.27083333333333337)   \n",
        " RGB{Float64}(0.29166666666666663,0.29166666666666663,0.29166666666666663)   \n",
        " RGB{Float64}(0.3125,0.3125,0.3125)                                          \n",
        " RGB{Float64}(0.33333333333333337,0.33333333333333337,0.33333333333333337)   \n",
        " RGB{Float64}(0.35416666666666663,0.35416666666666663,0.35416666666666663)   \n",
        " RGB{Float64}(0.375,0.375,0.375)                                             \n",
        " RGB{Float64}(0.3958333333333333,0.3958333333333333,0.3958333333333333)      \n",
        " RGB{Float64}(0.4166666666666667,0.4166666666666667,0.4166666666666667)      \n",
        " RGB{Float64}(0.4375,0.4375,0.4375)                                          \n",
        " RGB{Float64}(0.4583333333333333,0.4583333333333333,0.4583333333333333)      \n",
        " RGB{Float64}(0.4791666666666667,0.4791666666666667,0.4791666666666667)      \n",
        " RGB{Float64}(0.5,0.5,0.5)                                                   "
       ]
      }
     ],
     "prompt_number": 50
    },
    {
     "cell_type": "code",
     "collapsed": false,
     "input": [
      "using SymPy\n",
      "x = sym\"x\"\n",
      "@manipulate for n=0:10\n",
      "    latex(SymPy.diff(sin(x^2), x, n))\n",
      "end"
     ],
     "language": "python",
     "metadata": {},
     "outputs": [
      {
       "html": [],
       "metadata": {},
       "output_type": "display_data",
       "text": [
        "Slider{Int64}([Input{Int64}] 5,\"n\",5,0:10)"
       ]
      },
      {
       "html": [],
       "metadata": {},
       "output_type": "pyout",
       "prompt_number": 56,
       "text": [
        "Latex(\"\",\"\\$\\$8 x \\\\left(4 x^{4} \\\\cos{\\\\left (x^{2} \\\\right )} + 20 x^{2} \\\\sin{\\\\left (x^{2} \\\\right )} - 15 \\\\cos{\\\\left (x^{2} \\\\right )}\\\\right)\\$\\$\")"
       ]
      }
     ],
     "prompt_number": 56
    },
    {
     "cell_type": "markdown",
     "metadata": {},
     "source": [
      "##Acknowledgements\n",
      "\n",
      "- https://github.com/stevengj/Julia-EuroSciPy14\n",
      "- http://github.com/dpsanders/scipy_2014_julia\n",
      "- http://arxiv.org/abs/1411.1607"
     ]
    },
    {
     "cell_type": "code",
     "collapsed": false,
     "input": [],
     "language": "python",
     "metadata": {},
     "outputs": [],
     "prompt_number": 52
    }
   ],
   "metadata": {}
  }
 ]
}